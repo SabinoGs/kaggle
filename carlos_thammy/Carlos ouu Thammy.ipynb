{
 "cells": [
  {
   "cell_type": "markdown",
   "metadata": {},
   "source": [
    "# Rede Neural Convolucional Simples para identificar se  uma foto é do Carlos Bolsonaro ou da Thammy Gretchen"
   ]
  },
  {
   "cell_type": "code",
   "execution_count": 89,
   "metadata": {},
   "outputs": [],
   "source": [
    "import numpy as np\n",
    "import tensorflow as tf\n",
    "import cv2\n",
    "import pandas as pd\n",
    "from tensorflow.keras.preprocessing.image import ImageDataGenerator\n",
    "from tensorflow.keras.models import Sequential\n",
    "from tensorflow.keras.layers import Dense,  Conv2D, MaxPool2D, Dropout, Flatten"
   ]
  },
  {
   "cell_type": "markdown",
   "metadata": {},
   "source": [
    "# Loading Data"
   ]
  },
  {
   "cell_type": "code",
   "execution_count": 90,
   "metadata": {},
   "outputs": [
    {
     "name": "stdout",
     "output_type": "stream",
     "text": [
      "Found 37 images belonging to 2 classes.\n"
     ]
    },
    {
     "name": "stderr",
     "output_type": "stream",
     "text": [
      "/home/sabinogs/.virtualenvs/ml/local/lib/python3.5/site-packages/keras_preprocessing/image/image_data_generator.py:346: UserWarning: This ImageDataGenerator specifies `featurewise_std_normalization`, which overrides setting of `featurewise_center`.\n",
      "  warnings.warn('This ImageDataGenerator specifies '\n"
     ]
    }
   ],
   "source": [
    "train_datagen = ImageDataGenerator(\n",
    "    rescale=1./255,\n",
    "    rotation_range=90,\n",
    "    featurewise_std_normalization=True,\n",
    "    zoom_range=0.2    \n",
    ")\n",
    "\n",
    "train_image_generator = train_datagen.flow_from_directory(\n",
    "    'train',\n",
    "    target_size=(128,128),\n",
    "    classes=['carlos','thammy'],\n",
    "    class_mode='categorical',\n",
    "    save_to_dir='augmented/train'\n",
    ")"
   ]
  },
  {
   "cell_type": "code",
   "execution_count": 91,
   "metadata": {},
   "outputs": [
    {
     "name": "stdout",
     "output_type": "stream",
     "text": [
      "Found 20 images belonging to 2 classes.\n"
     ]
    },
    {
     "name": "stderr",
     "output_type": "stream",
     "text": [
      "/home/sabinogs/.virtualenvs/ml/local/lib/python3.5/site-packages/keras_preprocessing/image/image_data_generator.py:346: UserWarning: This ImageDataGenerator specifies `featurewise_std_normalization`, which overrides setting of `featurewise_center`.\n",
      "  warnings.warn('This ImageDataGenerator specifies '\n"
     ]
    }
   ],
   "source": [
    "test_datagen = ImageDataGenerator(\n",
    "    rescale=1./255,\n",
    "    rotation_range=90,\n",
    "    featurewise_std_normalization=True,\n",
    "    zoom_range=0.2    \n",
    ")\n",
    "\n",
    "test_image_generator = test_datagen.flow_from_directory(\n",
    "    'test',\n",
    "    target_size=(128,128),\n",
    "    classes=['carlos','thammy'],\n",
    "    class_mode='categorical',\n",
    "    save_to_dir='augmented/test'\n",
    ")"
   ]
  },
  {
   "cell_type": "markdown",
   "metadata": {},
   "source": [
    "# Definições"
   ]
  },
  {
   "cell_type": "code",
   "execution_count": 92,
   "metadata": {},
   "outputs": [],
   "source": [
    "NUM_CLASSES = 2\n",
    "CLASSES = {\n",
    "    0: 'CARLOS',\n",
    "    1: 'THAMMY'\n",
    "}"
   ]
  },
  {
   "cell_type": "code",
   "execution_count": 93,
   "metadata": {
    "scrolled": true
   },
   "outputs": [],
   "source": [
    "model = Sequential()\n",
    "\n",
    "model.add(\n",
    "    Conv2D(\n",
    "        32, \n",
    "        (3,3),\n",
    "        padding='same',\n",
    "        input_shape=(128,128,3),\n",
    "        activation='relu'\n",
    "    )\n",
    ")\n",
    "model.add(Conv2D(32, (3,3), activation='relu'))\n",
    "model.add(Conv2D(32, (3,3), activation='relu'))\n",
    "model.add(MaxPool2D(pool_size=(2,2)))\n",
    "model.add(Dropout(0.5))\n",
    "model.add(Flatten())\n",
    "model.add(Dense(512, activation='relu'))\n",
    "model.add(Dropout(0.5))\n",
    "model.add(Dense(NUM_CLASSES, activation='softmax'))\n"
   ]
  },
  {
   "cell_type": "code",
   "execution_count": 94,
   "metadata": {},
   "outputs": [],
   "source": [
    "model.compile(optimizer='adam', loss='categorical_crossentropy', metrics=['acc'])"
   ]
  },
  {
   "cell_type": "code",
   "execution_count": 95,
   "metadata": {
    "scrolled": false
   },
   "outputs": [
    {
     "name": "stderr",
     "output_type": "stream",
     "text": [
      "/home/sabinogs/.virtualenvs/ml/local/lib/python3.5/site-packages/keras_preprocessing/image/image_data_generator.py:699: UserWarning: This ImageDataGenerator specifies `featurewise_center`, but it hasn't been fit on any training data. Fit it first by calling `.fit(numpy_data)`.\n",
      "  warnings.warn('This ImageDataGenerator specifies '\n",
      "/home/sabinogs/.virtualenvs/ml/local/lib/python3.5/site-packages/keras_preprocessing/image/image_data_generator.py:707: UserWarning: This ImageDataGenerator specifies `featurewise_std_normalization`, but it hasn't been fit on any training data. Fit it first by calling `.fit(numpy_data)`.\n",
      "  warnings.warn('This ImageDataGenerator specifies '\n"
     ]
    },
    {
     "name": "stdout",
     "output_type": "stream",
     "text": [
      "Epoch 1/100\n",
      "1/1 [==============================] - 5s 5s/step - loss: 8.0590 - acc: 0.5000\n",
      "2/2 [==============================] - 58s 29s/step - loss: 4.0164 - acc: 0.5135 - val_loss: 8.0590 - val_acc: 0.5000\n",
      "Epoch 2/100\n",
      "1/1 [==============================] - 1s 541ms/step - loss: 8.0590 - acc: 0.5000\n",
      "2/2 [==============================] - 9s 4s/step - loss: 7.6206 - acc: 0.4865 - val_loss: 8.0590 - val_acc: 0.5000\n",
      "Epoch 3/100\n",
      "1/1 [==============================] - 1s 566ms/step - loss: 6.6125 - acc: 0.5000\n",
      "2/2 [==============================] - 4s 2s/step - loss: 8.4750 - acc: 0.4865 - val_loss: 6.6125 - val_acc: 0.5000\n",
      "Epoch 4/100\n",
      "1/1 [==============================] - 1s 563ms/step - loss: 1.4881 - acc: 0.5000\n",
      "2/2 [==============================] - 4s 2s/step - loss: 5.0521 - acc: 0.4865 - val_loss: 1.4881 - val_acc: 0.5000\n",
      "Epoch 5/100\n",
      "1/1 [==============================] - 1s 525ms/step - loss: 1.0083 - acc: 0.5000\n",
      "2/2 [==============================] - 4s 2s/step - loss: 1.3329 - acc: 0.5135 - val_loss: 1.0083 - val_acc: 0.5000\n",
      "Epoch 6/100\n",
      "1/1 [==============================] - 1s 543ms/step - loss: 0.6821 - acc: 0.5000\n",
      "2/2 [==============================] - 4s 2s/step - loss: 0.7426 - acc: 0.5405 - val_loss: 0.6821 - val_acc: 0.5000\n",
      "Epoch 7/100\n",
      "1/1 [==============================] - 1s 538ms/step - loss: 0.6909 - acc: 0.5000\n",
      "2/2 [==============================] - 4s 2s/step - loss: 0.6777 - acc: 0.5135 - val_loss: 0.6909 - val_acc: 0.5000\n",
      "Epoch 8/100\n",
      "1/1 [==============================] - 1s 542ms/step - loss: 0.6879 - acc: 0.5000\n",
      "2/2 [==============================] - 4s 2s/step - loss: 0.7083 - acc: 0.4865 - val_loss: 0.6879 - val_acc: 0.5000\n",
      "Epoch 9/100\n",
      "1/1 [==============================] - 1s 528ms/step - loss: 0.6967 - acc: 0.5500\n",
      "2/2 [==============================] - 4s 2s/step - loss: 0.7050 - acc: 0.4595 - val_loss: 0.6967 - val_acc: 0.5500\n",
      "Epoch 10/100\n",
      "1/1 [==============================] - 1s 552ms/step - loss: 0.6989 - acc: 0.5000\n",
      "2/2 [==============================] - 4s 2s/step - loss: 0.6876 - acc: 0.5676 - val_loss: 0.6989 - val_acc: 0.5000\n",
      "Epoch 11/100\n",
      "1/1 [==============================] - 1s 559ms/step - loss: 0.7344 - acc: 0.5000\n",
      "2/2 [==============================] - 4s 2s/step - loss: 0.6648 - acc: 0.5135 - val_loss: 0.7344 - val_acc: 0.5000\n",
      "Epoch 12/100\n",
      "1/1 [==============================] - 1s 529ms/step - loss: 0.6905 - acc: 0.5500\n",
      "2/2 [==============================] - 4s 2s/step - loss: 0.7798 - acc: 0.5405 - val_loss: 0.6905 - val_acc: 0.5500\n",
      "Epoch 13/100\n",
      "1/1 [==============================] - 1s 530ms/step - loss: 0.6934 - acc: 0.5500\n",
      "2/2 [==============================] - 4s 2s/step - loss: 0.6832 - acc: 0.5405 - val_loss: 0.6934 - val_acc: 0.5500\n",
      "Epoch 14/100\n",
      "1/1 [==============================] - 1s 521ms/step - loss: 0.7130 - acc: 0.5500\n",
      "2/2 [==============================] - 4s 2s/step - loss: 0.6650 - acc: 0.6216 - val_loss: 0.7130 - val_acc: 0.5500\n",
      "Epoch 15/100\n",
      "1/1 [==============================] - 1s 548ms/step - loss: 0.7203 - acc: 0.5000\n",
      "2/2 [==============================] - 4s 2s/step - loss: 0.6792 - acc: 0.5135 - val_loss: 0.7203 - val_acc: 0.5000\n",
      "Epoch 16/100\n",
      "1/1 [==============================] - 1s 545ms/step - loss: 0.6992 - acc: 0.6000\n",
      "2/2 [==============================] - 4s 2s/step - loss: 0.6577 - acc: 0.5676 - val_loss: 0.6992 - val_acc: 0.6000\n",
      "Epoch 17/100\n",
      "1/1 [==============================] - 1s 543ms/step - loss: 0.8391 - acc: 0.5000\n",
      "2/2 [==============================] - 4s 2s/step - loss: 0.6061 - acc: 0.5676 - val_loss: 0.8391 - val_acc: 0.5000\n",
      "Epoch 18/100\n",
      "1/1 [==============================] - 1s 529ms/step - loss: 0.7115 - acc: 0.5500\n",
      "2/2 [==============================] - 4s 2s/step - loss: 1.0071 - acc: 0.5405 - val_loss: 0.7115 - val_acc: 0.5500\n",
      "Epoch 19/100\n",
      "1/1 [==============================] - 1s 548ms/step - loss: 0.7485 - acc: 0.5500\n",
      "2/2 [==============================] - 4s 2s/step - loss: 0.6920 - acc: 0.5135 - val_loss: 0.7485 - val_acc: 0.5500\n",
      "Epoch 20/100\n",
      "1/1 [==============================] - 1s 541ms/step - loss: 0.7206 - acc: 0.5500\n",
      "2/2 [==============================] - 4s 2s/step - loss: 0.6368 - acc: 0.5135 - val_loss: 0.7206 - val_acc: 0.5500\n",
      "Epoch 21/100\n",
      "1/1 [==============================] - 1s 542ms/step - loss: 0.7046 - acc: 0.4500\n",
      "2/2 [==============================] - 4s 2s/step - loss: 0.6422 - acc: 0.6486 - val_loss: 0.7046 - val_acc: 0.4500\n",
      "Epoch 22/100\n",
      "1/1 [==============================] - 1s 528ms/step - loss: 0.6981 - acc: 0.6000\n",
      "2/2 [==============================] - 4s 2s/step - loss: 0.6280 - acc: 0.6757 - val_loss: 0.6981 - val_acc: 0.6000\n",
      "Epoch 23/100\n",
      "1/1 [==============================] - 1s 527ms/step - loss: 0.7437 - acc: 0.5500\n",
      "2/2 [==============================] - 4s 2s/step - loss: 0.6643 - acc: 0.5946 - val_loss: 0.7437 - val_acc: 0.5500\n",
      "Epoch 24/100\n",
      "1/1 [==============================] - 1s 547ms/step - loss: 0.7257 - acc: 0.6000\n",
      "2/2 [==============================] - 4s 2s/step - loss: 0.6373 - acc: 0.5676 - val_loss: 0.7257 - val_acc: 0.6000\n",
      "Epoch 25/100\n",
      "1/1 [==============================] - 1s 560ms/step - loss: 0.6905 - acc: 0.5000\n",
      "2/2 [==============================] - 4s 2s/step - loss: 0.6639 - acc: 0.6757 - val_loss: 0.6905 - val_acc: 0.5000\n",
      "Epoch 26/100\n",
      "1/1 [==============================] - 1s 535ms/step - loss: 0.7245 - acc: 0.4000\n",
      "2/2 [==============================] - 4s 2s/step - loss: 0.6495 - acc: 0.7027 - val_loss: 0.7245 - val_acc: 0.4000\n",
      "Epoch 27/100\n",
      "1/1 [==============================] - 1s 529ms/step - loss: 0.7006 - acc: 0.5500\n",
      "2/2 [==============================] - 4s 2s/step - loss: 0.6727 - acc: 0.7027 - val_loss: 0.7006 - val_acc: 0.5500\n",
      "Epoch 28/100\n",
      "1/1 [==============================] - 1s 575ms/step - loss: 0.6914 - acc: 0.6500\n",
      "2/2 [==============================] - 4s 2s/step - loss: 0.6755 - acc: 0.6757 - val_loss: 0.6914 - val_acc: 0.6500\n",
      "Epoch 29/100\n",
      "1/1 [==============================] - 1s 547ms/step - loss: 0.7121 - acc: 0.6000\n",
      "2/2 [==============================] - 4s 2s/step - loss: 0.6296 - acc: 0.7838 - val_loss: 0.7121 - val_acc: 0.6000\n",
      "Epoch 30/100\n",
      "1/1 [==============================] - 1s 541ms/step - loss: 0.7834 - acc: 0.5000\n",
      "2/2 [==============================] - 4s 2s/step - loss: 0.6270 - acc: 0.8378 - val_loss: 0.7834 - val_acc: 0.5000\n",
      "Epoch 31/100\n",
      "1/1 [==============================] - 1s 526ms/step - loss: 1.0613 - acc: 0.5000\n",
      "2/2 [==============================] - 4s 2s/step - loss: 0.6633 - acc: 0.7838 - val_loss: 1.0613 - val_acc: 0.5000\n",
      "Epoch 32/100\n",
      "1/1 [==============================] - 1s 542ms/step - loss: 0.7061 - acc: 0.6000\n",
      "2/2 [==============================] - 4s 2s/step - loss: 0.6904 - acc: 0.5405 - val_loss: 0.7061 - val_acc: 0.6000\n",
      "Epoch 33/100\n",
      "1/1 [==============================] - 1s 548ms/step - loss: 0.7155 - acc: 0.5000\n",
      "2/2 [==============================] - 4s 2s/step - loss: 0.6096 - acc: 0.6216 - val_loss: 0.7155 - val_acc: 0.5000\n",
      "Epoch 34/100\n",
      "1/1 [==============================] - 1s 529ms/step - loss: 0.7112 - acc: 0.6000\n",
      "2/2 [==============================] - 4s 2s/step - loss: 0.6457 - acc: 0.6486 - val_loss: 0.7112 - val_acc: 0.6000\n",
      "Epoch 35/100\n",
      "1/1 [==============================] - 1s 560ms/step - loss: 0.7067 - acc: 0.5500\n",
      "2/2 [==============================] - 4s 2s/step - loss: 0.6556 - acc: 0.6216 - val_loss: 0.7067 - val_acc: 0.5500\n",
      "Epoch 36/100\n",
      "1/1 [==============================] - 1s 549ms/step - loss: 0.7077 - acc: 0.7000\n",
      "2/2 [==============================] - 4s 2s/step - loss: 0.6413 - acc: 0.6216 - val_loss: 0.7077 - val_acc: 0.7000\n",
      "Epoch 37/100\n",
      "1/1 [==============================] - 1s 547ms/step - loss: 0.7543 - acc: 0.4500\n",
      "2/2 [==============================] - 4s 2s/step - loss: 0.6023 - acc: 0.6757 - val_loss: 0.7543 - val_acc: 0.4500\n",
      "Epoch 38/100\n",
      "1/1 [==============================] - 1s 546ms/step - loss: 0.9762 - acc: 0.5000\n",
      "2/2 [==============================] - 4s 2s/step - loss: 0.5731 - acc: 0.6216 - val_loss: 0.9762 - val_acc: 0.5000\n",
      "Epoch 39/100\n",
      "1/1 [==============================] - 1s 553ms/step - loss: 0.8200 - acc: 0.5000\n",
      "2/2 [==============================] - 4s 2s/step - loss: 0.5892 - acc: 0.5676 - val_loss: 0.8200 - val_acc: 0.5000\n"
     ]
    },
    {
     "name": "stdout",
     "output_type": "stream",
     "text": [
      "Epoch 40/100\n",
      "1/1 [==============================] - 1s 554ms/step - loss: 0.9876 - acc: 0.4500\n",
      "2/2 [==============================] - 4s 2s/step - loss: 0.5730 - acc: 0.6757 - val_loss: 0.9876 - val_acc: 0.4500\n",
      "Epoch 41/100\n",
      "1/1 [==============================] - 1s 539ms/step - loss: 0.9384 - acc: 0.7000\n",
      "2/2 [==============================] - 4s 2s/step - loss: 0.6489 - acc: 0.6757 - val_loss: 0.9384 - val_acc: 0.7000\n",
      "Epoch 42/100\n",
      "1/1 [==============================] - 1s 547ms/step - loss: 0.9412 - acc: 0.6500\n",
      "2/2 [==============================] - 4s 2s/step - loss: 0.6320 - acc: 0.6486 - val_loss: 0.9412 - val_acc: 0.6500\n",
      "Epoch 43/100\n",
      "1/1 [==============================] - 1s 539ms/step - loss: 0.8714 - acc: 0.6500\n",
      "2/2 [==============================] - 4s 2s/step - loss: 0.6460 - acc: 0.6757 - val_loss: 0.8714 - val_acc: 0.6500\n",
      "Epoch 44/100\n",
      "1/1 [==============================] - 1s 535ms/step - loss: 0.9256 - acc: 0.6000\n",
      "2/2 [==============================] - 4s 2s/step - loss: 0.5801 - acc: 0.7297 - val_loss: 0.9256 - val_acc: 0.6000\n",
      "Epoch 45/100\n",
      "1/1 [==============================] - 1s 545ms/step - loss: 0.9529 - acc: 0.6500\n",
      "2/2 [==============================] - 4s 2s/step - loss: 0.6068 - acc: 0.6757 - val_loss: 0.9529 - val_acc: 0.6500\n",
      "Epoch 46/100\n",
      "1/1 [==============================] - 1s 541ms/step - loss: 0.9821 - acc: 0.6000\n",
      "2/2 [==============================] - 4s 2s/step - loss: 0.5952 - acc: 0.6486 - val_loss: 0.9821 - val_acc: 0.6000\n",
      "Epoch 47/100\n",
      "1/1 [==============================] - 1s 542ms/step - loss: 1.1089 - acc: 0.6000\n",
      "2/2 [==============================] - 4s 2s/step - loss: 0.6128 - acc: 0.7027 - val_loss: 1.1089 - val_acc: 0.6000\n",
      "Epoch 48/100\n",
      "1/1 [==============================] - 1s 543ms/step - loss: 1.0972 - acc: 0.6000\n",
      "2/2 [==============================] - 4s 2s/step - loss: 0.5878 - acc: 0.7027 - val_loss: 1.0972 - val_acc: 0.6000\n",
      "Epoch 49/100\n",
      "1/1 [==============================] - 1s 568ms/step - loss: 1.0557 - acc: 0.5500\n",
      "2/2 [==============================] - 4s 2s/step - loss: 0.5550 - acc: 0.7027 - val_loss: 1.0557 - val_acc: 0.5500\n",
      "Epoch 50/100\n",
      "1/1 [==============================] - 1s 551ms/step - loss: 1.1516 - acc: 0.6000\n",
      "2/2 [==============================] - 4s 2s/step - loss: 0.5833 - acc: 0.6486 - val_loss: 1.1516 - val_acc: 0.6000\n",
      "Epoch 51/100\n",
      "1/1 [==============================] - 1s 547ms/step - loss: 1.0068 - acc: 0.5500\n",
      "2/2 [==============================] - 4s 2s/step - loss: 0.4919 - acc: 0.7838 - val_loss: 1.0068 - val_acc: 0.5500\n",
      "Epoch 52/100\n",
      "1/1 [==============================] - 1s 540ms/step - loss: 0.9203 - acc: 0.5500\n",
      "2/2 [==============================] - 4s 2s/step - loss: 0.5502 - acc: 0.6486 - val_loss: 0.9203 - val_acc: 0.5500\n",
      "Epoch 53/100\n",
      "1/1 [==============================] - 1s 532ms/step - loss: 1.2226 - acc: 0.5500\n",
      "2/2 [==============================] - 4s 2s/step - loss: 0.5552 - acc: 0.7297 - val_loss: 1.2226 - val_acc: 0.5500\n",
      "Epoch 54/100\n",
      "1/1 [==============================] - 1s 538ms/step - loss: 0.9589 - acc: 0.6000\n",
      "2/2 [==============================] - 4s 2s/step - loss: 0.5853 - acc: 0.6757 - val_loss: 0.9589 - val_acc: 0.6000\n",
      "Epoch 55/100\n",
      "1/1 [==============================] - 1s 551ms/step - loss: 1.3078 - acc: 0.5000\n",
      "2/2 [==============================] - 4s 2s/step - loss: 0.4949 - acc: 0.6757 - val_loss: 1.3078 - val_acc: 0.5000\n",
      "Epoch 56/100\n",
      "1/1 [==============================] - 1s 546ms/step - loss: 0.9266 - acc: 0.5000\n",
      "2/2 [==============================] - 4s 2s/step - loss: 0.6242 - acc: 0.6757 - val_loss: 0.9266 - val_acc: 0.5000\n",
      "Epoch 57/100\n",
      "1/1 [==============================] - 1s 535ms/step - loss: 1.0096 - acc: 0.5000\n",
      "2/2 [==============================] - 4s 2s/step - loss: 0.4225 - acc: 0.8378 - val_loss: 1.0096 - val_acc: 0.5000\n",
      "Epoch 58/100\n",
      "1/1 [==============================] - 1s 547ms/step - loss: 1.0487 - acc: 0.6000\n",
      "2/2 [==============================] - 4s 2s/step - loss: 0.5315 - acc: 0.8378 - val_loss: 1.0487 - val_acc: 0.6000\n",
      "Epoch 59/100\n",
      "1/1 [==============================] - 1s 533ms/step - loss: 1.1046 - acc: 0.5500\n",
      "2/2 [==============================] - 4s 2s/step - loss: 0.4878 - acc: 0.7568 - val_loss: 1.1046 - val_acc: 0.5500\n",
      "Epoch 60/100\n",
      "1/1 [==============================] - 1s 551ms/step - loss: 0.9509 - acc: 0.6000\n",
      "2/2 [==============================] - 4s 2s/step - loss: 0.6912 - acc: 0.7297 - val_loss: 0.9509 - val_acc: 0.6000\n",
      "Epoch 61/100\n",
      "1/1 [==============================] - 1s 543ms/step - loss: 0.7491 - acc: 0.5500\n",
      "2/2 [==============================] - 4s 2s/step - loss: 0.4731 - acc: 0.7297 - val_loss: 0.7491 - val_acc: 0.5500\n",
      "Epoch 62/100\n",
      "1/1 [==============================] - 1s 536ms/step - loss: 0.7562 - acc: 0.4000\n",
      "2/2 [==============================] - 4s 2s/step - loss: 0.5019 - acc: 0.7568 - val_loss: 0.7562 - val_acc: 0.4000\n",
      "Epoch 63/100\n",
      "1/1 [==============================] - 1s 547ms/step - loss: 0.8257 - acc: 0.5500\n",
      "2/2 [==============================] - 4s 2s/step - loss: 0.5833 - acc: 0.7027 - val_loss: 0.8257 - val_acc: 0.5500\n",
      "Epoch 64/100\n",
      "1/1 [==============================] - 1s 527ms/step - loss: 0.8224 - acc: 0.6000\n",
      "2/2 [==============================] - 4s 2s/step - loss: 0.5824 - acc: 0.7568 - val_loss: 0.8224 - val_acc: 0.6000\n",
      "Epoch 65/100\n",
      "1/1 [==============================] - 1s 531ms/step - loss: 0.9124 - acc: 0.6500\n",
      "2/2 [==============================] - 4s 2s/step - loss: 0.5131 - acc: 0.8108 - val_loss: 0.9124 - val_acc: 0.6500\n",
      "Epoch 66/100\n",
      "1/1 [==============================] - 1s 549ms/step - loss: 0.9103 - acc: 0.6500\n",
      "2/2 [==============================] - 4s 2s/step - loss: 0.5004 - acc: 0.7838 - val_loss: 0.9103 - val_acc: 0.6500\n",
      "Epoch 67/100\n",
      "1/1 [==============================] - 1s 612ms/step - loss: 0.8201 - acc: 0.5500\n",
      "2/2 [==============================] - 5s 2s/step - loss: 0.5897 - acc: 0.7027 - val_loss: 0.8201 - val_acc: 0.5500\n",
      "Epoch 68/100\n",
      "1/1 [==============================] - 1s 527ms/step - loss: 0.8317 - acc: 0.6000\n",
      "2/2 [==============================] - 4s 2s/step - loss: 0.5409 - acc: 0.7297 - val_loss: 0.8317 - val_acc: 0.6000\n",
      "Epoch 69/100\n",
      "1/1 [==============================] - 1s 563ms/step - loss: 0.7760 - acc: 0.8000\n",
      "2/2 [==============================] - 4s 2s/step - loss: 0.3871 - acc: 0.8649 - val_loss: 0.7760 - val_acc: 0.8000\n",
      "Epoch 70/100\n",
      "1/1 [==============================] - 1s 542ms/step - loss: 1.5210 - acc: 0.6000\n",
      "2/2 [==============================] - 4s 2s/step - loss: 0.4615 - acc: 0.8378 - val_loss: 1.5210 - val_acc: 0.6000\n",
      "Epoch 71/100\n",
      "1/1 [==============================] - 1s 535ms/step - loss: 1.2241 - acc: 0.7000\n",
      "2/2 [==============================] - 4s 2s/step - loss: 0.5676 - acc: 0.7838 - val_loss: 1.2241 - val_acc: 0.7000\n",
      "Epoch 72/100\n",
      "1/1 [==============================] - 1s 542ms/step - loss: 0.8590 - acc: 0.6500\n",
      "2/2 [==============================] - 4s 2s/step - loss: 0.4203 - acc: 0.7297 - val_loss: 0.8590 - val_acc: 0.6500\n",
      "Epoch 73/100\n",
      "1/1 [==============================] - 1s 555ms/step - loss: 1.4800 - acc: 0.5500\n",
      "2/2 [==============================] - 4s 2s/step - loss: 0.5959 - acc: 0.6757 - val_loss: 1.4800 - val_acc: 0.5500\n",
      "Epoch 74/100\n",
      "1/1 [==============================] - 1s 552ms/step - loss: 0.8186 - acc: 0.6500\n",
      "2/2 [==============================] - 4s 2s/step - loss: 0.5015 - acc: 0.8919 - val_loss: 0.8186 - val_acc: 0.6500\n",
      "Epoch 75/100\n",
      "1/1 [==============================] - 1s 548ms/step - loss: 0.6755 - acc: 0.6000\n",
      "2/2 [==============================] - 4s 2s/step - loss: 0.5178 - acc: 0.8108 - val_loss: 0.6755 - val_acc: 0.6000\n",
      "Epoch 76/100\n",
      "1/1 [==============================] - 1s 519ms/step - loss: 1.1499 - acc: 0.5000\n",
      "2/2 [==============================] - 4s 2s/step - loss: 0.5333 - acc: 0.7297 - val_loss: 1.1499 - val_acc: 0.5000\n",
      "Epoch 77/100\n",
      "1/1 [==============================] - 1s 546ms/step - loss: 0.9329 - acc: 0.6000\n",
      "2/2 [==============================] - 4s 2s/step - loss: 0.5749 - acc: 0.6486 - val_loss: 0.9329 - val_acc: 0.6000\n",
      "Epoch 78/100\n",
      "1/1 [==============================] - 1s 528ms/step - loss: 1.1033 - acc: 0.5500\n",
      "2/2 [==============================] - 4s 2s/step - loss: 0.4451 - acc: 0.7568 - val_loss: 1.1033 - val_acc: 0.5500\n"
     ]
    },
    {
     "name": "stdout",
     "output_type": "stream",
     "text": [
      "Epoch 79/100\n",
      "1/1 [==============================] - 1s 556ms/step - loss: 1.3014 - acc: 0.5500\n",
      "2/2 [==============================] - 4s 2s/step - loss: 0.4915 - acc: 0.6757 - val_loss: 1.3014 - val_acc: 0.5500\n",
      "Epoch 80/100\n",
      "1/1 [==============================] - 1s 548ms/step - loss: 1.0483 - acc: 0.7000\n",
      "2/2 [==============================] - 4s 2s/step - loss: 0.4579 - acc: 0.7568 - val_loss: 1.0483 - val_acc: 0.7000\n",
      "Epoch 81/100\n",
      "1/1 [==============================] - 1s 547ms/step - loss: 1.3428 - acc: 0.5000\n",
      "2/2 [==============================] - 4s 2s/step - loss: 0.3742 - acc: 0.8108 - val_loss: 1.3428 - val_acc: 0.5000\n",
      "Epoch 82/100\n",
      "1/1 [==============================] - 1s 569ms/step - loss: 1.5487 - acc: 0.5000\n",
      "2/2 [==============================] - 4s 2s/step - loss: 0.5049 - acc: 0.7027 - val_loss: 1.5487 - val_acc: 0.5000\n",
      "Epoch 83/100\n",
      "1/1 [==============================] - 1s 533ms/step - loss: 1.4269 - acc: 0.6000\n",
      "2/2 [==============================] - 4s 2s/step - loss: 0.3361 - acc: 0.8378 - val_loss: 1.4269 - val_acc: 0.6000\n",
      "Epoch 84/100\n",
      "1/1 [==============================] - 1s 560ms/step - loss: 1.4254 - acc: 0.6500\n",
      "2/2 [==============================] - 4s 2s/step - loss: 0.3733 - acc: 0.8378 - val_loss: 1.4254 - val_acc: 0.6500\n",
      "Epoch 85/100\n",
      "1/1 [==============================] - 1s 540ms/step - loss: 0.9834 - acc: 0.4500\n",
      "2/2 [==============================] - 4s 2s/step - loss: 0.4931 - acc: 0.6757 - val_loss: 0.9834 - val_acc: 0.4500\n",
      "Epoch 86/100\n",
      "1/1 [==============================] - 1s 551ms/step - loss: 1.3036 - acc: 0.5000\n",
      "2/2 [==============================] - 4s 2s/step - loss: 0.3773 - acc: 0.8108 - val_loss: 1.3036 - val_acc: 0.5000\n",
      "Epoch 87/100\n",
      "1/1 [==============================] - 1s 544ms/step - loss: 1.5748 - acc: 0.6000\n",
      "2/2 [==============================] - 5s 2s/step - loss: 0.2736 - acc: 0.8649 - val_loss: 1.5748 - val_acc: 0.6000\n",
      "Epoch 88/100\n",
      "1/1 [==============================] - 1s 548ms/step - loss: 1.4727 - acc: 0.7000\n",
      "2/2 [==============================] - 4s 2s/step - loss: 0.3566 - acc: 0.8919 - val_loss: 1.4727 - val_acc: 0.7000\n",
      "Epoch 89/100\n",
      "1/1 [==============================] - 1s 544ms/step - loss: 1.0625 - acc: 0.7000\n",
      "2/2 [==============================] - 4s 2s/step - loss: 0.4191 - acc: 0.8378 - val_loss: 1.0625 - val_acc: 0.7000\n",
      "Epoch 90/100\n",
      "1/1 [==============================] - 1s 604ms/step - loss: 1.4997 - acc: 0.6500\n",
      "2/2 [==============================] - 5s 2s/step - loss: 0.6469 - acc: 0.6216 - val_loss: 1.4997 - val_acc: 0.6500\n",
      "Epoch 91/100\n",
      "1/1 [==============================] - 1s 553ms/step - loss: 1.3889 - acc: 0.6000\n",
      "2/2 [==============================] - 5s 2s/step - loss: 0.4780 - acc: 0.6757 - val_loss: 1.3889 - val_acc: 0.6000\n",
      "Epoch 92/100\n",
      "1/1 [==============================] - 1s 551ms/step - loss: 1.1854 - acc: 0.6000\n",
      "2/2 [==============================] - 4s 2s/step - loss: 0.4770 - acc: 0.7568 - val_loss: 1.1854 - val_acc: 0.6000\n",
      "Epoch 93/100\n",
      "1/1 [==============================] - 1s 544ms/step - loss: 0.9667 - acc: 0.7000\n",
      "2/2 [==============================] - 4s 2s/step - loss: 0.4783 - acc: 0.7027 - val_loss: 0.9667 - val_acc: 0.7000\n",
      "Epoch 94/100\n",
      "1/1 [==============================] - 1s 535ms/step - loss: 1.0970 - acc: 0.5000\n",
      "2/2 [==============================] - 4s 2s/step - loss: 0.4350 - acc: 0.8108 - val_loss: 1.0970 - val_acc: 0.5000\n",
      "Epoch 95/100\n",
      "1/1 [==============================] - 1s 551ms/step - loss: 0.9962 - acc: 0.5000\n",
      "2/2 [==============================] - 4s 2s/step - loss: 0.4787 - acc: 0.7838 - val_loss: 0.9962 - val_acc: 0.5000\n",
      "Epoch 96/100\n",
      "1/1 [==============================] - 1s 549ms/step - loss: 1.2753 - acc: 0.4500\n",
      "2/2 [==============================] - 4s 2s/step - loss: 0.4677 - acc: 0.7838 - val_loss: 1.2753 - val_acc: 0.4500\n",
      "Epoch 97/100\n",
      "1/1 [==============================] - 1s 543ms/step - loss: 0.6918 - acc: 0.5500\n",
      "2/2 [==============================] - 5s 2s/step - loss: 0.4222 - acc: 0.7838 - val_loss: 0.6918 - val_acc: 0.5500\n",
      "Epoch 98/100\n",
      "1/1 [==============================] - 1s 566ms/step - loss: 0.8668 - acc: 0.5000\n",
      "2/2 [==============================] - 5s 2s/step - loss: 0.4375 - acc: 0.7568 - val_loss: 0.8668 - val_acc: 0.5000\n",
      "Epoch 99/100\n",
      "1/1 [==============================] - 1s 562ms/step - loss: 1.6268 - acc: 0.4000\n",
      "2/2 [==============================] - 5s 2s/step - loss: 0.4344 - acc: 0.7568 - val_loss: 1.6268 - val_acc: 0.4000\n",
      "Epoch 100/100\n",
      "1/1 [==============================] - 1s 546ms/step - loss: 1.6301 - acc: 0.5500\n",
      "2/2 [==============================] - 4s 2s/step - loss: 0.5780 - acc: 0.7838 - val_loss: 1.6301 - val_acc: 0.5500\n"
     ]
    },
    {
     "data": {
      "text/plain": [
       "<tensorflow.python.keras.callbacks.History at 0x7f6f0ca024e0>"
      ]
     },
     "execution_count": 95,
     "metadata": {},
     "output_type": "execute_result"
    }
   ],
   "source": [
    "model.fit_generator(\n",
    "    train_image_generator,\n",
    "    steps_per_epoch=2000,\n",
    "    epochs=100,\n",
    "    validation_data=test_image_generator,\n",
    "    validation_steps=800\n",
    ")"
   ]
  },
  {
   "cell_type": "code",
   "execution_count": 138,
   "metadata": {},
   "outputs": [
    {
     "name": "stderr",
     "output_type": "stream",
     "text": [
      "/home/sabinogs/.virtualenvs/ml/local/lib/python3.5/site-packages/keras_preprocessing/image/image_data_generator.py:699: UserWarning: This ImageDataGenerator specifies `featurewise_center`, but it hasn't been fit on any training data. Fit it first by calling `.fit(numpy_data)`.\n",
      "  warnings.warn('This ImageDataGenerator specifies '\n",
      "/home/sabinogs/.virtualenvs/ml/local/lib/python3.5/site-packages/keras_preprocessing/image/image_data_generator.py:707: UserWarning: This ImageDataGenerator specifies `featurewise_std_normalization`, but it hasn't been fit on any training data. Fit it first by calling `.fit(numpy_data)`.\n",
      "  warnings.warn('This ImageDataGenerator specifies '\n"
     ]
    },
    {
     "name": "stdout",
     "output_type": "stream",
     "text": [
      "\r",
      "1/1 [==============================] - 1s 564ms/step\n"
     ]
    }
   ],
   "source": [
    "predictions = model.predict_generator(\n",
    "    test_image_generator, \n",
    "    2000, \n",
    "    verbose=1\n",
    ")\n",
    "predictions_df = pd.DataFrame(predictions, columns = ['Carlos', 'Thammy'])"
   ]
  },
  {
   "cell_type": "code",
   "execution_count": 142,
   "metadata": {
    "scrolled": true
   },
   "outputs": [
    {
     "data": {
      "text/html": [
       "<div>\n",
       "<style scoped>\n",
       "    .dataframe tbody tr th:only-of-type {\n",
       "        vertical-align: middle;\n",
       "    }\n",
       "\n",
       "    .dataframe tbody tr th {\n",
       "        vertical-align: top;\n",
       "    }\n",
       "\n",
       "    .dataframe thead th {\n",
       "        text-align: right;\n",
       "    }\n",
       "</style>\n",
       "<table border=\"1\" class=\"dataframe\">\n",
       "  <thead>\n",
       "    <tr style=\"text-align: right;\">\n",
       "      <th></th>\n",
       "      <th>Carlos</th>\n",
       "      <th>Thammy</th>\n",
       "    </tr>\n",
       "  </thead>\n",
       "  <tbody>\n",
       "    <tr>\n",
       "      <th>0</th>\n",
       "      <td>0.072360</td>\n",
       "      <td>0.927640</td>\n",
       "    </tr>\n",
       "    <tr>\n",
       "      <th>1</th>\n",
       "      <td>0.424078</td>\n",
       "      <td>0.575922</td>\n",
       "    </tr>\n",
       "    <tr>\n",
       "      <th>2</th>\n",
       "      <td>0.219452</td>\n",
       "      <td>0.780548</td>\n",
       "    </tr>\n",
       "    <tr>\n",
       "      <th>3</th>\n",
       "      <td>0.971141</td>\n",
       "      <td>0.028859</td>\n",
       "    </tr>\n",
       "    <tr>\n",
       "      <th>4</th>\n",
       "      <td>0.063805</td>\n",
       "      <td>0.936195</td>\n",
       "    </tr>\n",
       "  </tbody>\n",
       "</table>\n",
       "</div>"
      ],
      "text/plain": [
       "     Carlos    Thammy\n",
       "0  0.072360  0.927640\n",
       "1  0.424078  0.575922\n",
       "2  0.219452  0.780548\n",
       "3  0.971141  0.028859\n",
       "4  0.063805  0.936195"
      ]
     },
     "execution_count": 142,
     "metadata": {},
     "output_type": "execute_result"
    }
   ],
   "source": [
    "predictions_df.head()"
   ]
  },
  {
   "cell_type": "code",
   "execution_count": 135,
   "metadata": {},
   "outputs": [],
   "source": [
    "from imutils import resize\n",
    "import matplotlib.pyplot as plt\n",
    "\n",
    "%matplotlib inline"
   ]
  },
  {
   "cell_type": "code",
   "execution_count": 137,
   "metadata": {},
   "outputs": [
    {
     "data": {
      "text/plain": [
       "<matplotlib.image.AxesImage at 0x7f6ef42e0748>"
      ]
     },
     "execution_count": 137,
     "metadata": {},
     "output_type": "execute_result"
    },
    {
     "data": {
      "image/png": "[encoded data removed]",
      "text/plain": [
       "<Figure size 432x288 with 1 Axes>"
      ]
     },
     "metadata": {
      "needs_background": "light"
     },
     "output_type": "display_data"
    }
   ],
   "source": [
    "alvo = cv2.imread('test/carlos/27.jpg')\n",
    "alvo = cv2.resize(alvo, (128,128))\n",
    "alvo = alvo.reshape((1,128,128,3))\n",
    "alvo.shape\n",
    "\n",
    "plt.imshow(alvo.reshape(128,128,3))"
   ]
  },
  {
   "cell_type": "code",
   "execution_count": 134,
   "metadata": {
    "scrolled": true
   },
   "outputs": [
    {
     "data": {
      "text/plain": [
       "'THAMMY'"
      ]
     },
     "execution_count": 134,
     "metadata": {},
     "output_type": "execute_result"
    }
   ],
   "source": [
    "pre  = np.argmax(model.predict(alvo))\n",
    "CLASSES[pre]"
   ]
  }
 ],
 "metadata": {
  "kernelspec": {
   "display_name": "Python 3",
   "language": "python",
   "name": "python3"
  },
  "language_info": {
   "codemirror_mode": {
    "name": "ipython",
    "version": 3
   },
   "file_extension": ".py",
   "mimetype": "text/x-python",
   "name": "python",
   "nbconvert_exporter": "python",
   "pygments_lexer": "ipython3",
   "version": "3.5.3"
  }
 },
 "nbformat": 4,
 "nbformat_minor": 2
}
