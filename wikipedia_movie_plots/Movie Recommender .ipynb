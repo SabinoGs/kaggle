{
 "cells": [
  {
   "cell_type": "code",
   "execution_count": 11,
   "metadata": {},
   "outputs": [],
   "source": [
    "import pandas as pd\n",
    "import numpy as np\n",
    "import matplotlib.pyplot as plt\n",
    "import seaborn as sns\n",
    "\n",
    "%matplotlib inline"
   ]
  },
  {
   "cell_type": "markdown",
   "metadata": {},
   "source": [
    "# Import Data"
   ]
  },
  {
   "cell_type": "code",
   "execution_count": 12,
   "metadata": {},
   "outputs": [
    {
     "data": {
      "text/html": [
       "<div>\n",
       "<style scoped>\n",
       "    .dataframe tbody tr th:only-of-type {\n",
       "        vertical-align: middle;\n",
       "    }\n",
       "\n",
       "    .dataframe tbody tr th {\n",
       "        vertical-align: top;\n",
       "    }\n",
       "\n",
       "    .dataframe thead th {\n",
       "        text-align: right;\n",
       "    }\n",
       "</style>\n",
       "<table border=\"1\" class=\"dataframe\">\n",
       "  <thead>\n",
       "    <tr style=\"text-align: right;\">\n",
       "      <th></th>\n",
       "      <th>Year</th>\n",
       "      <th>Title</th>\n",
       "      <th>Origin</th>\n",
       "      <th>Director</th>\n",
       "      <th>Cast</th>\n",
       "      <th>Genre</th>\n",
       "      <th>Wiki Page</th>\n",
       "      <th>Plot</th>\n",
       "    </tr>\n",
       "  </thead>\n",
       "  <tbody>\n",
       "    <tr>\n",
       "      <th>0</th>\n",
       "      <td>1982</td>\n",
       "      <td>Parasite</td>\n",
       "      <td>American</td>\n",
       "      <td>Charles Band</td>\n",
       "      <td>Demi Moore, Robert Glaudini</td>\n",
       "      <td>horror</td>\n",
       "      <td>https://en.wikipedia.org/wiki/Parasite_(film)</td>\n",
       "      <td>In the near future, an atomic disaster has red...</td>\n",
       "    </tr>\n",
       "    <tr>\n",
       "      <th>1</th>\n",
       "      <td>1982</td>\n",
       "      <td>Partners</td>\n",
       "      <td>American</td>\n",
       "      <td>James Burrows</td>\n",
       "      <td>John Hurt, Ryan O'Neal</td>\n",
       "      <td>comedy</td>\n",
       "      <td>https://en.wikipedia.org/wiki/Partners_(1982_f...</td>\n",
       "      <td>After a series of murders in Los Angeles's gay...</td>\n",
       "    </tr>\n",
       "    <tr>\n",
       "      <th>2</th>\n",
       "      <td>1982</td>\n",
       "      <td>Personal Best</td>\n",
       "      <td>American</td>\n",
       "      <td>Robert Towne</td>\n",
       "      <td>Mariel Hemingway, Scott Glenn, Patrice Donnelly</td>\n",
       "      <td>drama, sports</td>\n",
       "      <td>https://en.wikipedia.org/wiki/Personal_Best_(f...</td>\n",
       "      <td>Chris Cahill is a young athlete who competes u...</td>\n",
       "    </tr>\n",
       "    <tr>\n",
       "      <th>3</th>\n",
       "      <td>1982</td>\n",
       "      <td>Poltergeist</td>\n",
       "      <td>American</td>\n",
       "      <td>Tobe Hooper</td>\n",
       "      <td>Craig T. Nelson, Beatrice Straight, Dominique ...</td>\n",
       "      <td>horror</td>\n",
       "      <td>https://en.wikipedia.org/wiki/Poltergeist_(198...</td>\n",
       "      <td>Steven and Diane Freeling live a quiet life in...</td>\n",
       "    </tr>\n",
       "    <tr>\n",
       "      <th>4</th>\n",
       "      <td>1982</td>\n",
       "      <td>Porky's</td>\n",
       "      <td>American</td>\n",
       "      <td>Bob Clark</td>\n",
       "      <td>Kim Cattrall, Mark Herrier, Wyatt Knight</td>\n",
       "      <td>comedy</td>\n",
       "      <td>https://en.wikipedia.org/wiki/Porky%27s</td>\n",
       "      <td>A group of Florida high school students plan o...</td>\n",
       "    </tr>\n",
       "  </tbody>\n",
       "</table>\n",
       "</div>"
      ],
      "text/plain": [
       "   Year          Title    Origin       Director  \\\n",
       "0  1982       Parasite  American   Charles Band   \n",
       "1  1982       Partners  American  James Burrows   \n",
       "2  1982  Personal Best  American   Robert Towne   \n",
       "3  1982    Poltergeist  American    Tobe Hooper   \n",
       "4  1982        Porky's  American      Bob Clark   \n",
       "\n",
       "                                                Cast          Genre  \\\n",
       "0                        Demi Moore, Robert Glaudini         horror   \n",
       "1                             John Hurt, Ryan O'Neal         comedy   \n",
       "2    Mariel Hemingway, Scott Glenn, Patrice Donnelly  drama, sports   \n",
       "3  Craig T. Nelson, Beatrice Straight, Dominique ...         horror   \n",
       "4           Kim Cattrall, Mark Herrier, Wyatt Knight         comedy   \n",
       "\n",
       "                                           Wiki Page  \\\n",
       "0      https://en.wikipedia.org/wiki/Parasite_(film)   \n",
       "1  https://en.wikipedia.org/wiki/Partners_(1982_f...   \n",
       "2  https://en.wikipedia.org/wiki/Personal_Best_(f...   \n",
       "3  https://en.wikipedia.org/wiki/Poltergeist_(198...   \n",
       "4            https://en.wikipedia.org/wiki/Porky%27s   \n",
       "\n",
       "                                                Plot  \n",
       "0  In the near future, an atomic disaster has red...  \n",
       "1  After a series of murders in Los Angeles's gay...  \n",
       "2  Chris Cahill is a young athlete who competes u...  \n",
       "3  Steven and Diane Freeling live a quiet life in...  \n",
       "4  A group of Florida high school students plan o...  "
      ]
     },
     "execution_count": 12,
     "metadata": {},
     "output_type": "execute_result"
    }
   ],
   "source": [
    "column_names = ['Year','Title', 'Origin', 'Director', 'Cast', 'Genre', 'Wiki Page', 'Plot']\n",
    "data = pd.read_csv('wiki_movie_plots_deduped.csv', names=column_names, skiprows=10000, nrows=4000)\n",
    "data.head()"
   ]
  },
  {
   "cell_type": "markdown",
   "metadata": {},
   "source": [
    "# Removing Columns"
   ]
  },
  {
   "cell_type": "code",
   "execution_count": 13,
   "metadata": {},
   "outputs": [
    {
     "data": {
      "text/html": [
       "<div>\n",
       "<style scoped>\n",
       "    .dataframe tbody tr th:only-of-type {\n",
       "        vertical-align: middle;\n",
       "    }\n",
       "\n",
       "    .dataframe tbody tr th {\n",
       "        vertical-align: top;\n",
       "    }\n",
       "\n",
       "    .dataframe thead th {\n",
       "        text-align: right;\n",
       "    }\n",
       "</style>\n",
       "<table border=\"1\" class=\"dataframe\">\n",
       "  <thead>\n",
       "    <tr style=\"text-align: right;\">\n",
       "      <th></th>\n",
       "      <th>Year</th>\n",
       "      <th>Title</th>\n",
       "      <th>Origin</th>\n",
       "      <th>Genre</th>\n",
       "      <th>Plot</th>\n",
       "    </tr>\n",
       "  </thead>\n",
       "  <tbody>\n",
       "    <tr>\n",
       "      <th>0</th>\n",
       "      <td>1982</td>\n",
       "      <td>Parasite</td>\n",
       "      <td>American</td>\n",
       "      <td>horror</td>\n",
       "      <td>In the near future, an atomic disaster has red...</td>\n",
       "    </tr>\n",
       "    <tr>\n",
       "      <th>1</th>\n",
       "      <td>1982</td>\n",
       "      <td>Partners</td>\n",
       "      <td>American</td>\n",
       "      <td>comedy</td>\n",
       "      <td>After a series of murders in Los Angeles's gay...</td>\n",
       "    </tr>\n",
       "    <tr>\n",
       "      <th>2</th>\n",
       "      <td>1982</td>\n",
       "      <td>Personal Best</td>\n",
       "      <td>American</td>\n",
       "      <td>drama, sports</td>\n",
       "      <td>Chris Cahill is a young athlete who competes u...</td>\n",
       "    </tr>\n",
       "    <tr>\n",
       "      <th>3</th>\n",
       "      <td>1982</td>\n",
       "      <td>Poltergeist</td>\n",
       "      <td>American</td>\n",
       "      <td>horror</td>\n",
       "      <td>Steven and Diane Freeling live a quiet life in...</td>\n",
       "    </tr>\n",
       "    <tr>\n",
       "      <th>4</th>\n",
       "      <td>1982</td>\n",
       "      <td>Porky's</td>\n",
       "      <td>American</td>\n",
       "      <td>comedy</td>\n",
       "      <td>A group of Florida high school students plan o...</td>\n",
       "    </tr>\n",
       "  </tbody>\n",
       "</table>\n",
       "</div>"
      ],
      "text/plain": [
       "   Year          Title    Origin          Genre  \\\n",
       "0  1982       Parasite  American         horror   \n",
       "1  1982       Partners  American         comedy   \n",
       "2  1982  Personal Best  American  drama, sports   \n",
       "3  1982    Poltergeist  American         horror   \n",
       "4  1982        Porky's  American         comedy   \n",
       "\n",
       "                                                Plot  \n",
       "0  In the near future, an atomic disaster has red...  \n",
       "1  After a series of murders in Los Angeles's gay...  \n",
       "2  Chris Cahill is a young athlete who competes u...  \n",
       "3  Steven and Diane Freeling live a quiet life in...  \n",
       "4  A group of Florida high school students plan o...  "
      ]
     },
     "execution_count": 13,
     "metadata": {},
     "output_type": "execute_result"
    }
   ],
   "source": [
    "columns_to_remove = ['Cast','Wiki Page','Director']\n",
    "data = data.drop(columns_to_remove, axis=1)\n",
    "data.head()"
   ]
  },
  {
   "cell_type": "markdown",
   "metadata": {},
   "source": [
    "# Analysing data"
   ]
  },
  {
   "cell_type": "code",
   "execution_count": 14,
   "metadata": {},
   "outputs": [
    {
     "name": "stdout",
     "output_type": "stream",
     "text": [
      "(4000, 5) Index(['Year', 'Title', 'Origin', 'Genre', 'Plot'], dtype='object')\n"
     ]
    }
   ],
   "source": [
    "print(\n",
    "    data.shape,\n",
    "    data.columns\n",
    ")"
   ]
  },
  {
   "cell_type": "markdown",
   "metadata": {},
   "source": [
    "# Counting NaN's and unkown's"
   ]
  },
  {
   "cell_type": "code",
   "execution_count": 15,
   "metadata": {},
   "outputs": [
    {
     "data": {
      "text/plain": [
       "Year       int64\n",
       "Title     object\n",
       "Origin    object\n",
       "Genre     object\n",
       "Plot      object\n",
       "dtype: object"
      ]
     },
     "execution_count": 15,
     "metadata": {},
     "output_type": "execute_result"
    }
   ],
   "source": [
    "columns = data.columns\n",
    "data.dtypes"
   ]
  },
  {
   "cell_type": "code",
   "execution_count": 16,
   "metadata": {},
   "outputs": [
    {
     "name": "stdout",
     "output_type": "stream",
     "text": [
      "Year (0, 5)\n",
      "Title (0, 5)\n",
      "Origin (0, 5)\n",
      "Plot (0, 5)\n"
     ]
    },
    {
     "name": "stderr",
     "output_type": "stream",
     "text": [
      "/home/gustavo/Envs/machine/lib/python3.5/site-packages/pandas/core/ops.py:1167: FutureWarning: elementwise comparison failed; returning scalar instead, but in the future will perform elementwise comparison\n",
      "  result = method(y)\n"
     ]
    }
   ],
   "source": [
    "for column in columns.drop('Genre'):\n",
    "    print(column, end=\" \")\n",
    "    try:\n",
    "        print(data[data[column] == 'unknown'].shape)\n",
    "    except TypeError:\n",
    "        print(data[data[column] == np.NaN].shape)"
   ]
  },
  {
   "cell_type": "markdown",
   "metadata": {},
   "source": [
    "## Defining Methods for data treatment"
   ]
  },
  {
   "cell_type": "markdown",
   "metadata": {},
   "source": [
    "## Feature Engineering"
   ]
  },
  {
   "cell_type": "code",
   "execution_count": 17,
   "metadata": {},
   "outputs": [],
   "source": [
    "def unknown_to_nan(information):\n",
    "    result = ''\n",
    "    if str(information).lower() == \"unknown\":\n",
    "        result = np.NaN\n",
    "    else:\n",
    "        result = information\n",
    "    return result"
   ]
  },
  {
   "cell_type": "code",
   "execution_count": 18,
   "metadata": {},
   "outputs": [],
   "source": [
    "for column in columns:\n",
    "    data[column] = data[column].apply(unknown_to_nan)"
   ]
  },
  {
   "cell_type": "code",
   "execution_count": 19,
   "metadata": {
    "scrolled": true
   },
   "outputs": [],
   "source": [
    "data['Genre'].fillna('unknown', inplace=True)"
   ]
  },
  {
   "cell_type": "code",
   "execution_count": 20,
   "metadata": {},
   "outputs": [],
   "source": [
    "data['Genre'] = data['Genre'].astype('category')\n",
    "data['Origin'] = data['Origin'].astype('category')"
   ]
  },
  {
   "cell_type": "code",
   "execution_count": 21,
   "metadata": {
    "scrolled": true
   },
   "outputs": [
    {
     "data": {
      "text/plain": [
       "comedy                        962\n",
       "drama                         893\n",
       "horror                        272\n",
       "action                        260\n",
       "thriller                      181\n",
       "crime drama                   143\n",
       "science fiction               140\n",
       "family                         76\n",
       "animated                       66\n",
       "fantasy                        63\n",
       "sci-fi                         60\n",
       "unknown                        56\n",
       "romantic comedy                53\n",
       "adventure                      47\n",
       "comedy, drama                  47\n",
       "biography                      36\n",
       "romance                        35\n",
       "crime                          33\n",
       "suspense                       32\n",
       "animation                      32\n",
       "drama, biography               25\n",
       "western                        21\n",
       "musical                        19\n",
       "war                            15\n",
       "animated film                  14\n",
       "mystery                        13\n",
       "drama, comedy                  12\n",
       "rom com                        11\n",
       "biography, drama               11\n",
       "action, comedy                 10\n",
       "                             ... \n",
       "drama, western                  1\n",
       "educational                     1\n",
       "family, animation               1\n",
       "family, animated                1\n",
       "cult film                       1\n",
       "crime, romance                  1\n",
       "family adventure                1\n",
       "independent                     1\n",
       "science fiction, adventure      1\n",
       "science fiction thriller        1\n",
       "comedy, cult                    1\n",
       "comedy, drama, sports           1\n",
       "sci-fi action                   1\n",
       "satire                          1\n",
       "rom-com                         1\n",
       "comedy, mystery                 1\n",
       "comedy, parody                  1\n",
       "comedy, satire                  1\n",
       "comedy, sci-fi                  1\n",
       "road thriller                   1\n",
       "psychological thriller          1\n",
       "comedy, teen                    1\n",
       "operetta                        1\n",
       "comedy,horror                   1\n",
       "mystery, comedy                 1\n",
       "musical, drama                  1\n",
       "musical, comedy                 1\n",
       "crime drama, comedy             1\n",
       "crime thriller                  1\n",
       "16 mm film                      1\n",
       "Name: Genre, Length: 191, dtype: int64"
      ]
     },
     "execution_count": 21,
     "metadata": {},
     "output_type": "execute_result"
    }
   ],
   "source": [
    "data['Genre'].value_counts()"
   ]
  },
  {
   "cell_type": "markdown",
   "metadata": {},
   "source": [
    "## Let's transform this 2 name categories into 1 name only"
   ]
  },
  {
   "cell_type": "code",
   "execution_count": 22,
   "metadata": {},
   "outputs": [],
   "source": [
    "def return_only_one_category(category):\n",
    "    \"\"\"\n",
    "    If the category has two categories, like: `comedy, drama`, then\n",
    "    return only the first one. \n",
    "    \n",
    "    Also, return the first category if the category is something like: \n",
    "    `family adventure`\n",
    "    \"\"\"\n",
    "    return category.split(' ')[0].strip('.,')"
   ]
  },
  {
   "cell_type": "code",
   "execution_count": 23,
   "metadata": {},
   "outputs": [],
   "source": [
    "data['Genre'] = data['Genre'].apply(lambda x: return_only_one_category(x))"
   ]
  },
  {
   "cell_type": "code",
   "execution_count": 24,
   "metadata": {},
   "outputs": [
    {
     "data": {
      "text/plain": [
       "comedy      1066\n",
       "drama        963\n",
       "action       298\n",
       "horror       288\n",
       "crime        194\n",
       "thriller     184\n",
       "science      156\n",
       "family        91\n",
       "animated      84\n",
       "sci-fi        68\n",
       "Name: Genre, dtype: int64"
      ]
     },
     "execution_count": 24,
     "metadata": {},
     "output_type": "execute_result"
    }
   ],
   "source": [
    "data['Genre'].value_counts().head(10)"
   ]
  },
  {
   "cell_type": "markdown",
   "metadata": {},
   "source": [
    "## Let's see some data on Plots"
   ]
  },
  {
   "cell_type": "code",
   "execution_count": 25,
   "metadata": {},
   "outputs": [
    {
     "data": {
      "text/plain": [
       "<matplotlib.axes._subplots.AxesSubplot at 0x7fe19db2f390>"
      ]
     },
     "execution_count": 25,
     "metadata": {},
     "output_type": "execute_result"
    },
    {
     "data": {
      "image/png": "[encoded data removed]",
      "text/plain": [
       "<Figure size 432x288 with 1 Axes>"
      ]
     },
     "metadata": {},
     "output_type": "display_data"
    }
   ],
   "source": [
    "sns.countplot(x='Year', data=data)"
   ]
  },
  {
   "cell_type": "code",
   "execution_count": 26,
   "metadata": {},
   "outputs": [
    {
     "data": {
      "text/plain": [
       "<seaborn.axisgrid.FacetGrid at 0x7fe19dadfdd8>"
      ]
     },
     "execution_count": 26,
     "metadata": {},
     "output_type": "execute_result"
    },
    {
     "data": {
      "image/png": "[encoded data removed]",
      "text/plain": [
       "<Figure size 425.5x360 with 1 Axes>"
      ]
     },
     "metadata": {},
     "output_type": "display_data"
    }
   ],
   "source": [
    "_d = data.groupby(['Year','Genre']).count().reset_index().rename(columns={'Title':'Count'})[['Year','Genre','Count']]\n",
    "\n",
    "sns.relplot(x='Year', y='Genre', size='Count', data=_d, sizes=(20,450))"
   ]
  },
  {
   "cell_type": "code",
   "execution_count": 27,
   "metadata": {},
   "outputs": [
    {
     "data": {
      "text/plain": [
       "<matplotlib.axes._subplots.AxesSubplot at 0x7fe19d9f7748>"
      ]
     },
     "execution_count": 27,
     "metadata": {},
     "output_type": "execute_result"
    },
    {
     "data": {
      "image/png": "[encoded data removed]",
      "text/plain": [
       "<Figure size 432x288 with 1 Axes>"
      ]
     },
     "metadata": {},
     "output_type": "display_data"
    }
   ],
   "source": [
    "sns.distplot(data['Year'])"
   ]
  },
  {
   "cell_type": "code",
   "execution_count": 28,
   "metadata": {
    "scrolled": true
   },
   "outputs": [],
   "source": [
    "from sklearn.decomposition import NMF\n",
    "from sklearn.feature_selection import SelectKBest, chi2\n",
    "from sklearn.feature_extraction.text import TfidfVectorizer\n",
    "from sklearn.pipeline import Pipeline, FeatureUnion\n",
    "from sklearn.preprocessing import Normalizer, OneHotEncoder, FunctionTransformer,StandardScaler "
   ]
  },
  {
   "cell_type": "markdown",
   "metadata": {},
   "source": [
    "# Creating MegaPipeline to treat heterogeneous features"
   ]
  },
  {
   "cell_type": "code",
   "execution_count": 29,
   "metadata": {},
   "outputs": [
    {
     "data": {
      "text/html": [
       "<div>\n",
       "<style scoped>\n",
       "    .dataframe tbody tr th:only-of-type {\n",
       "        vertical-align: middle;\n",
       "    }\n",
       "\n",
       "    .dataframe tbody tr th {\n",
       "        vertical-align: top;\n",
       "    }\n",
       "\n",
       "    .dataframe thead th {\n",
       "        text-align: right;\n",
       "    }\n",
       "</style>\n",
       "<table border=\"1\" class=\"dataframe\">\n",
       "  <thead>\n",
       "    <tr style=\"text-align: right;\">\n",
       "      <th></th>\n",
       "      <th>Year</th>\n",
       "      <th>Title</th>\n",
       "      <th>Origin</th>\n",
       "      <th>Genre</th>\n",
       "      <th>Plot</th>\n",
       "    </tr>\n",
       "  </thead>\n",
       "  <tbody>\n",
       "    <tr>\n",
       "      <th>0</th>\n",
       "      <td>1982</td>\n",
       "      <td>Parasite</td>\n",
       "      <td>American</td>\n",
       "      <td>horror</td>\n",
       "      <td>In the near future, an atomic disaster has red...</td>\n",
       "    </tr>\n",
       "    <tr>\n",
       "      <th>1</th>\n",
       "      <td>1982</td>\n",
       "      <td>Partners</td>\n",
       "      <td>American</td>\n",
       "      <td>comedy</td>\n",
       "      <td>After a series of murders in Los Angeles's gay...</td>\n",
       "    </tr>\n",
       "    <tr>\n",
       "      <th>2</th>\n",
       "      <td>1982</td>\n",
       "      <td>Personal Best</td>\n",
       "      <td>American</td>\n",
       "      <td>drama</td>\n",
       "      <td>Chris Cahill is a young athlete who competes u...</td>\n",
       "    </tr>\n",
       "    <tr>\n",
       "      <th>3</th>\n",
       "      <td>1982</td>\n",
       "      <td>Poltergeist</td>\n",
       "      <td>American</td>\n",
       "      <td>horror</td>\n",
       "      <td>Steven and Diane Freeling live a quiet life in...</td>\n",
       "    </tr>\n",
       "    <tr>\n",
       "      <th>4</th>\n",
       "      <td>1982</td>\n",
       "      <td>Porky's</td>\n",
       "      <td>American</td>\n",
       "      <td>comedy</td>\n",
       "      <td>A group of Florida high school students plan o...</td>\n",
       "    </tr>\n",
       "  </tbody>\n",
       "</table>\n",
       "</div>"
      ],
      "text/plain": [
       "   Year          Title    Origin   Genre  \\\n",
       "0  1982       Parasite  American  horror   \n",
       "1  1982       Partners  American  comedy   \n",
       "2  1982  Personal Best  American   drama   \n",
       "3  1982    Poltergeist  American  horror   \n",
       "4  1982        Porky's  American  comedy   \n",
       "\n",
       "                                                Plot  \n",
       "0  In the near future, an atomic disaster has red...  \n",
       "1  After a series of murders in Los Angeles's gay...  \n",
       "2  Chris Cahill is a young athlete who competes u...  \n",
       "3  Steven and Diane Freeling live a quiet life in...  \n",
       "4  A group of Florida high school students plan o...  "
      ]
     },
     "execution_count": 29,
     "metadata": {},
     "output_type": "execute_result"
    }
   ],
   "source": [
    "#Rememb\n",
    "data.head()"
   ]
  },
  {
   "cell_type": "code",
   "execution_count": 31,
   "metadata": {
    "scrolled": true
   },
   "outputs": [],
   "source": [
    "def get_text_features(dataframe):\n",
    "    return dataframe[['Title','Plot']]\n",
    "\n",
    "def get_categorical_data(dataframe):\n",
    "    return pd.get_dummies(dataframe[['Origin','Genre']])\n",
    "\n",
    "def get_numerical_data(dataframe):\n",
    "    return dataframe[['Year']]\n",
    "\n",
    "text_data = Pipeline([\n",
    "    ('selector', FunctionTransformer(get_text_features, validate=False)),\n",
    "    ('tfidf', TfidfVectorizer(token_pattern=r'\\w+', ngram_range=(1,2))),\n",
    "#     ('dimension_reduction', SelectKBest(chi2, k=300))\n",
    "     ])\n",
    "    \n",
    "categorical_data = Pipeline([\n",
    "    ('selector', FunctionTransformer(get_categorical_data, validate=False))\n",
    "])\n",
    "numerical_data = Pipeline([\n",
    "    ('selector', FunctionTransformer(get_numerical_data, validate=False)),\n",
    "    ('scaler', StandardScaler())    \n",
    "])\n",
    "    \n",
    "feature_union = FeatureUnion(\n",
    "    transformer_list=[\n",
    "        ('text', text_data),\n",
    "        ('numeric', numerical_data),\n",
    "        ('categorical', categorical_data)\n",
    "    ]\n",
    ")\n",
    "    \n",
    "final_pipe = Pipeline([\n",
    "    ('union', feature_union),\n",
    "    ('nmf', NMF(n_components=5)),\n",
    "    ('normalizer', Normalizer)\n",
    "])\n",
    "X = data.drop('Plot', axis=1)\n",
    "plots = data['Plot'].tolist()\n",
    "\n",
    "t = text_data.fit_transform(data)"
   ]
  },
  {
   "cell_type": "code",
   "execution_count": 32,
   "metadata": {},
   "outputs": [],
   "source": [
    "vectorizer = TfidfVectorizer(\n",
    "    ngram_range=(1,2)\n",
    ")\n",
    "nmf  = NMF(n_components=5)\n",
    "pipe = Pipeline([\n",
    "    ('tfidf', vectorizer),\n",
    "    ('nmf', nmf)\n",
    "])\n",
    "\n",
    "X = data.drop('Plot', axis=1)\n",
    "plots = data['Plot'].tolist()"
   ]
  },
  {
   "cell_type": "code",
   "execution_count": 33,
   "metadata": {},
   "outputs": [
    {
     "ename": "NameError",
     "evalue": "name 'normalize' is not defined",
     "output_type": "error",
     "traceback": [
      "\u001b[0;31m---------------------------------------------------------------------------\u001b[0m",
      "\u001b[0;31mNameError\u001b[0m                                 Traceback (most recent call last)",
      "\u001b[0;32m<ipython-input-33-f7bee25b4c8f>\u001b[0m in \u001b[0;36m<module>\u001b[0;34m()\u001b[0m\n\u001b[1;32m      1\u001b[0m \u001b[0mnmf_features\u001b[0m \u001b[0;34m=\u001b[0m \u001b[0mpipe\u001b[0m\u001b[0;34m.\u001b[0m\u001b[0mfit_transform\u001b[0m\u001b[0;34m(\u001b[0m\u001b[0mplots\u001b[0m\u001b[0;34m)\u001b[0m\u001b[0;34m\u001b[0m\u001b[0m\n\u001b[0;32m----> 2\u001b[0;31m \u001b[0mnmf_normalized\u001b[0m \u001b[0;34m=\u001b[0m \u001b[0mnormalize\u001b[0m\u001b[0;34m(\u001b[0m\u001b[0mnmf_features\u001b[0m\u001b[0;34m)\u001b[0m\u001b[0;34m\u001b[0m\u001b[0m\n\u001b[0m",
      "\u001b[0;31mNameError\u001b[0m: name 'normalize' is not defined"
     ]
    }
   ],
   "source": [
    "nmf_features = pipe.fit_transform(plots)\n",
    "nmf_normalized = normalize(nmf_features)"
   ]
  },
  {
   "cell_type": "code",
   "execution_count": null,
   "metadata": {
    "scrolled": true
   },
   "outputs": [],
   "source": [
    "plot_recommendation_df = pd.DataFrame(nmf_normalized, index=data['Plot'])\n",
    "plot_recommendation_df.head(3)"
   ]
  },
  {
   "cell_type": "code",
   "execution_count": null,
   "metadata": {},
   "outputs": [],
   "source": [
    "_plot = \"\"\"The film, just over a minute long, is composed of two shots. In the first, a girl sits at the base of an altar or tomb, her face hidden from the camera. At the center of the altar, a viewing portal displays the portraits of three U.S. Presidents—Abraham Lincoln, James A. Garfield, and William McKinley—each victims of assassination.\\r\\nIn the second shot, which runs just over eight seconds long, an assassin kneels feet of Lady Justice.\"\"\"\n",
    "plot = plot_recommendation_df.loc[_plot]\n",
    "recommendations = plot_recommendation_df.dot(plot)"
   ]
  },
  {
   "cell_type": "code",
   "execution_count": null,
   "metadata": {
    "scrolled": true
   },
   "outputs": [],
   "source": [
    "recommendations.nlargest()"
   ]
  },
  {
   "cell_type": "markdown",
   "metadata": {},
   "source": [
    "# Let's construct  a Class to make thing more easy to work with"
   ]
  },
  {
   "cell_type": "code",
   "execution_count": null,
   "metadata": {},
   "outputs": [],
   "source": [
    "class WikiRecommender():\n",
    "    \n",
    "    def __init__(self, data, ngram_range=(1,2), n_components=10, max_features=5000, token_pattern=r'\\w+', target=\"Plot\"):\n",
    "        self.ngram_range = ngram_range\n",
    "        self.n_components = n_components\n",
    "        self.max_features = max_features\n",
    "        self.token_pattern = token_pattern\n",
    "        self.data = data\n",
    "        self.target = target\n",
    "        \n",
    "        \n",
    "    def transform(self):\n",
    "        vectorizer = TfidfVectorizer(\n",
    "            ngram_range=self.ngram_range,\n",
    "            max_features=self.n_components,\n",
    "            token_pattern = self.token_pattern\n",
    "        )\n",
    "        nmf  = NMF(\n",
    "            n_components=self.n_components\n",
    "        )\n",
    "        normalizer = Normalizer()\n",
    "        pipe = Pipeline([\n",
    "            ('tfidf', vectorizer),\n",
    "            ('nmf', nmf),\n",
    "            ('normalizer', normalizer)\n",
    "        ])\n",
    "        \n",
    "        plots = self.data[self.target].tolist()\n",
    "        return pipe.fit_transform(plots)\n",
    "    \n",
    "    @property\n",
    "    def features(self):\n",
    "        _features = self.transform()\n",
    "        features = pd.DataFrame(_features, index=self.data[self.target])\n",
    "        return features\n",
    "    \n",
    "    def recommend_based_on_plot(self, string='', n_recom=5):\n",
    "        search = self.features.loc[string]\n",
    "        recommendations = self.features.dot(search)\n",
    "        return recommendations.nlargest(n_recom)\n",
    "        "
   ]
  },
  {
   "cell_type": "code",
   "execution_count": null,
   "metadata": {},
   "outputs": [],
   "source": [
    "recommender = WikiRecommender(data=data)\n",
    "recommender.features"
   ]
  },
  {
   "cell_type": "code",
   "execution_count": null,
   "metadata": {},
   "outputs": [],
   "source": [
    "recommender.recommend_based_on_plot(\n",
    "    \"\"\"A bartender is working at a saloon, serving drinks to customers. After he fills a stereotypically Irish man's bucket with beer, Carrie Nation and her followers burst inside. They assault the Irish man, pulling his hat over his eyes and then dumping the beer over his head. The group then begin wrecking the bar, smashing the fixtures, mirrors, and breaking the cash register. The bartender then sprays seltzer water in Nation's face before a group of policemen appear and order everybody to leave.[1]\"\"\",    n_recom = 10\n",
    ")"
   ]
  },
  {
   "cell_type": "code",
   "execution_count": null,
   "metadata": {},
   "outputs": [],
   "source": []
  }
 ],
 "metadata": {
  "kernelspec": {
   "display_name": "Python 3",
   "language": "python",
   "name": "python3"
  },
  "language_info": {
   "codemirror_mode": {
    "name": "ipython",
    "version": 3
   },
   "file_extension": ".py",
   "mimetype": "text/x-python",
   "name": "python",
   "nbconvert_exporter": "python",
   "pygments_lexer": "ipython3",
   "version": "3.5.3"
  }
 },
 "nbformat": 4,
 "nbformat_minor": 2
}
