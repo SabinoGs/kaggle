{
 "cells": [
  {
   "cell_type": "code",
   "execution_count": 1,
   "metadata": {},
   "outputs": [],
   "source": [
    "from sklearn.datasets import load_iris\n",
    "from sklearn.preprocessing import StandardScaler, OneHotEncoder\n",
    "from sklearn.model_selection import train_test_split\n",
    "import tensorflow as tf\n",
    "import numpy as np"
   ]
  },
  {
   "cell_type": "code",
   "execution_count": 2,
   "metadata": {},
   "outputs": [],
   "source": [
    "iris = load_iris()"
   ]
  },
  {
   "cell_type": "code",
   "execution_count": 3,
   "metadata": {},
   "outputs": [],
   "source": [
    "X = iris.data\n",
    "y = iris.target"
   ]
  },
  {
   "cell_type": "code",
   "execution_count": 4,
   "metadata": {},
   "outputs": [],
   "source": [
    "scaler = StandardScaler()\n",
    "X = scaler.fit_transform(X)"
   ]
  },
  {
   "cell_type": "code",
   "execution_count": 5,
   "metadata": {},
   "outputs": [
    {
     "data": {
      "text/plain": [
       "(150, 4)"
      ]
     },
     "execution_count": 5,
     "metadata": {},
     "output_type": "execute_result"
    }
   ],
   "source": [
    "X.shape"
   ]
  },
  {
   "cell_type": "code",
   "execution_count": 6,
   "metadata": {
    "scrolled": true
   },
   "outputs": [
    {
     "name": "stderr",
     "output_type": "stream",
     "text": [
      "/home/gustavo/Envs/machine/lib/python3.5/site-packages/sklearn/preprocessing/_encoders.py:368: FutureWarning: The handling of integer data will change in version 0.22. Currently, the categories are determined based on the range [0, max(values)], while in the future they will be determined based on the unique values.\n",
      "If you want the future behaviour and silence this warning, you can specify \"categories='auto'\".\n",
      "In case you used a LabelEncoder before this OneHotEncoder to convert the categories to integers, then you can now use the OneHotEncoder directly.\n",
      "  warnings.warn(msg, FutureWarning)\n",
      "/home/gustavo/Envs/machine/lib/python3.5/site-packages/sklearn/preprocessing/_encoders.py:390: DeprecationWarning: The 'categorical_features' keyword is deprecated in version 0.20 and will be removed in 0.22. You can use the ColumnTransformer instead.\n",
      "  \"use the ColumnTransformer instead.\", DeprecationWarning)\n"
     ]
    }
   ],
   "source": [
    "onehot = OneHotEncoder(categorical_features=[0])\n",
    "y = onehot.fit_transform(y.reshape(-1,1))\n",
    "y = y.toarray()"
   ]
  },
  {
   "cell_type": "code",
   "execution_count": 7,
   "metadata": {},
   "outputs": [],
   "source": [
    "X_train, X_test, y_train, y_test = train_test_split(X, y)"
   ]
  },
  {
   "cell_type": "code",
   "execution_count": 8,
   "metadata": {},
   "outputs": [],
   "source": [
    "neuronios_input = X.shape[1]\n",
    "neuronios_output = y.shape[1]\n",
    "neuronios_oculta =  np.ceil((X.shape[1]+y.shape[1])/2)\n",
    "neuronios_oculta = np.int32(neuronios_oculta)"
   ]
  },
  {
   "cell_type": "code",
   "execution_count": 9,
   "metadata": {
    "scrolled": true
   },
   "outputs": [],
   "source": [
    "pesos = {\n",
    "    'oculta':tf.Variable(\n",
    "        tf.random_normal([neuronios_input, neuronios_oculta]), dtype=tf.float32),\n",
    "    'saida': tf.Variable(\n",
    "        tf.random_normal([neuronios_oculta, neuronios_output]), dtype=tf.float32) \n",
    "}\n",
    "\n",
    "bias = {\n",
    "    'oculta':tf.Variable(\n",
    "        tf.random_normal([neuronios_oculta])),\n",
    "    'saida': tf.Variable(\n",
    "        tf.random_normal([neuronios_output])) \n",
    "}"
   ]
  },
  {
   "cell_type": "code",
   "execution_count": 10,
   "metadata": {},
   "outputs": [],
   "source": [
    " # Qualquer numero de observações, mas Tem o numero de inputs definido antes\n",
    "xph = tf.placeholder(dtype=tf.float32, shape=[None, neuronios_input])\n",
    "\n",
    "# qualquer numero de observações, mas tem 3 saídas por causa do OnehotEncoder\n",
    "# Essa rede tem 3 saídas. São equivalentes as probabilidades de cada classe\n",
    "yph = tf.placeholder(dtype=tf.float32, shape=[None, neuronios_output])"
   ]
  },
  {
   "cell_type": "code",
   "execution_count": 11,
   "metadata": {},
   "outputs": [],
   "source": [
    "def multilayer_perceptron(inputs, weights, bias):\n",
    "    # multiplicacao dos pesos pelas features\n",
    "    valores_camada_oculta = tf.matmul(inputs, weights['oculta'])\n",
    "    \n",
    "    #adição do bias\n",
    "    valores_camada_oculta = tf.add(valores_camada_oculta, bias['oculta'])\n",
    "    \n",
    "    #Função de ativacao\n",
    "    valores_camada_oculta = tf.nn.relu(valores_camada_oculta)\n",
    "    \n",
    "    #mesmo processo anterior.\n",
    "    valores_camada_saida = tf.matmul(valores_camada_oculta, weights['saida'])\n",
    "    valores_camada_saida = tf.add(valores_camada_saida, bias['saida'])\n",
    "#     valores_camada_saida = tf.nn.softmax(valores_camada_saida)\n",
    "    \n",
    "    return valores_camada_saida"
   ]
  },
  {
   "cell_type": "code",
   "execution_count": 12,
   "metadata": {},
   "outputs": [],
   "source": [
    "modelo = multilayer_perceptron(xph, pesos, bias)"
   ]
  },
  {
   "cell_type": "code",
   "execution_count": 15,
   "metadata": {},
   "outputs": [],
   "source": [
    "# Definição do erro\n",
    "\n",
    "erro  = tf.nn.softmax_cross_entropy_with_logits_v2(logits=modelo, labels=yph)\n",
    "erro = tf.reduce_mean(erro)\n",
    "otimizador = tf.train.AdamOptimizer().minimize(erro)\n"
   ]
  },
  {
   "cell_type": "code",
   "execution_count": 18,
   "metadata": {
    "scrolled": true
   },
   "outputs": [
    {
     "name": "stdout",
     "output_type": "stream",
     "text": [
      "Epoca:  0  erro:  4.467739650181362\n",
      "Epoca:  500  erro:  0.0538054559313293\n",
      "Epoca:  1000  erro:  0.04613901050886073\n",
      "Epoca:  1500  erro:  0.04559081233102395\n",
      "Epoca:  2000  erro:  0.04547841979261388\n",
      "Epoca:  2500  erro:  0.045447924634832555\n"
     ]
    }
   ],
   "source": [
    "BATCH_SIZE = 8\n",
    "TOTAL_ITERACOES = int(len(X_train)/BATCH_SIZE)\n",
    "EPOCAS = 3000\n",
    "\n",
    "\n",
    "with tf.Session() as sess:\n",
    "    sess.run(tf.global_variables_initializer())\n",
    "    \n",
    "    for epoca in range(EPOCAS):\n",
    "        erro_medio = 0.0\n",
    "        \n",
    "        for i in range(TOTAL_ITERACOES):\n",
    "            x = X_train[BATCH_SIZE*i:BATCH_SIZE*(i+1)]\n",
    "            y = y_train[BATCH_SIZE*i:BATCH_SIZE*(i+1)]\n",
    "            _, custo = sess.run([otimizador, erro], feed_dict={xph:x, yph:y})\n",
    "            erro_medio += custo/TOTAL_ITERACOES\n",
    "        if epoca % 500 == 0:\n",
    "            print(\"Epoca: \", epoca, \" erro: \", erro_medio)\n",
    "    pesos_finais, bias_final = sess.run([pesos, bias])"
   ]
  },
  {
   "cell_type": "code",
   "execution_count": 19,
   "metadata": {},
   "outputs": [
    {
     "name": "stdout",
     "output_type": "stream",
     "text": [
      "{'saida': array([[-8.23778   ,  0.5797728 ,  1.2948929 ],\n",
      "       [-1.4650621 , -0.2793843 ,  1.5718274 ],\n",
      "       [ 1.2274582 , -5.1230264 ,  0.732163  ],\n",
      "       [ 0.17962809,  2.123423  , -3.2874162 ]], dtype=float32), 'oculta': array([[-0.60346025, -0.09025217, -1.5589296 , -0.10256448],\n",
      "       [-1.3471633 ,  0.18156283,  1.8265883 ,  0.5187789 ],\n",
      "       [ 3.2531116 , -0.48570377, -2.780385  , -1.6049972 ],\n",
      "       [ 0.47758478,  2.951703  , -0.8299941 , -1.1728556 ]],\n",
      "      dtype=float32)} {'saida': array([-4.1828356,  1.2299156,  0.9652812], dtype=float32), 'oculta': array([0.3916647 , 0.38370296, 0.01379086, 2.9992807 ], dtype=float32)}\n"
     ]
    }
   ],
   "source": [
    "print(pesos_finais, bias_final)"
   ]
  },
  {
   "cell_type": "code",
   "execution_count": 27,
   "metadata": {},
   "outputs": [],
   "source": [
    "# previsão\n",
    "\n",
    "previsao_teste = multilayer_perceptron(xph, pesos_finais, bias_final)\n",
    "\n",
    "with tf.Session() as sess:\n",
    "    sess.run(tf.global_variables_initializer())\n",
    "    prev = sess.run(previsao_teste, feed_dict={xph: X_test, yph:y_test})\n",
    "    #Aplicação da função de probabilidde\n",
    "    prev = sess.run(tf.nn.softmax(prev))\n",
    "    \n",
    "    #Pegando qual coluna tem o valor mais alto, pois, o indice dessa coluna\n",
    "    # indica qual é a categoria da previsão. (Lembre-se do OneHotEncoder definido antes)\n",
    "    prev = sess.run(tf.arg_max(prev, 1)) "
   ]
  },
  {
   "cell_type": "code",
   "execution_count": 28,
   "metadata": {
    "scrolled": true
   },
   "outputs": [
    {
     "data": {
      "text/plain": [
       "array([2, 2, 1, 1, 0, 1, 2, 1, 2, 2, 2, 2, 0, 0, 0, 0, 0, 2, 0, 2, 1, 1,\n",
       "       1, 2, 2, 1, 1, 1, 2, 0, 1, 0, 0, 2, 1, 0, 2, 2])"
      ]
     },
     "execution_count": 28,
     "metadata": {},
     "output_type": "execute_result"
    }
   ],
   "source": [
    "prev"
   ]
  }
 ],
 "metadata": {
  "kernelspec": {
   "display_name": "Python 3",
   "language": "python",
   "name": "python3"
  },
  "language_info": {
   "codemirror_mode": {
    "name": "ipython",
    "version": 3
   },
   "file_extension": ".py",
   "mimetype": "text/x-python",
   "name": "python",
   "nbconvert_exporter": "python",
   "pygments_lexer": "ipython3",
   "version": "3.5.3"
  }
 },
 "nbformat": 4,
 "nbformat_minor": 2
}
