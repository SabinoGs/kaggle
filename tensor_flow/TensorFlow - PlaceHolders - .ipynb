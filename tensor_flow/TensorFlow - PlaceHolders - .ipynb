{
 "cells": [
  {
   "cell_type": "code",
   "execution_count": 1,
   "metadata": {},
   "outputs": [],
   "source": [
    "import tensorflow as tf"
   ]
  },
  {
   "cell_type": "markdown",
   "metadata": {},
   "source": [
    "# Placeholder\n",
    "\n",
    "é uma variável que atribuimos dados"
   ]
  },
  {
   "cell_type": "code",
   "execution_count": 19,
   "metadata": {},
   "outputs": [
    {
     "data": {
      "text/plain": [
       "<tf.Tensor 'Placeholder_5:0' shape=<unknown> dtype=float32>"
      ]
     },
     "execution_count": 19,
     "metadata": {},
     "output_type": "execute_result"
    }
   ],
   "source": [
    "placeholder_a = tf.placeholder(tf.float32, None) # Args: Tipo dos dados, Dimensão (shape)\n",
    "placeholder_a"
   ]
  },
  {
   "cell_type": "code",
   "execution_count": 20,
   "metadata": {},
   "outputs": [],
   "source": [
    "operacao = tf.add(placeholder_a,2)"
   ]
  },
  {
   "cell_type": "markdown",
   "metadata": {},
   "source": [
    "Caso tente rodar `operacao` no session o seguinte erro aparecerá:\n",
    "\n",
    "```python\n",
    "\n",
    "with tf.Session() as sess:\n",
    "    print(sess.run(operacao))\n",
    "\n",
    "InvalidArgumentError (see above for traceback): You must feed a value for placeholder tensor 'Placeholder_1' with dtype float\n",
    "```"
   ]
  },
  {
   "cell_type": "code",
   "execution_count": 21,
   "metadata": {},
   "outputs": [
    {
     "name": "stdout",
     "output_type": "stream",
     "text": [
      "[3. 4. 5. 6.]\n"
     ]
    }
   ],
   "source": [
    "with tf.Session() as sess:\n",
    "    resultado = sess.run(operacao, feed_dict={\n",
    "        placeholder_a:[1,2,3,4]\n",
    "    })\n",
    "    print(resultado)"
   ]
  },
  {
   "cell_type": "code",
   "execution_count": 24,
   "metadata": {},
   "outputs": [
    {
     "name": "stdout",
     "output_type": "stream",
     "text": [
      "[[1.00000e+00 4.00000e+00 9.00000e+00]\n",
      " [1.44000e+02 5.29000e+02 1.08900e+03]\n",
      " [1.21000e+02 4.84000e+02 1.08900e+03]\n",
      " [1.25440e+04 5.38240e+04 1.18336e+05]]\n"
     ]
    }
   ],
   "source": [
    "placeholder_a = tf.placeholder(tf.float32, [None, 3]) # entrada: [N linhas, 3 colunas]\n",
    "placeholder_a\n",
    "\n",
    "operacao = tf.pow(placeholder_a, 2)\n",
    "\n",
    "\n",
    "with tf.Session() as sess:\n",
    "    resultado = sess.run(operacao, feed_dict={\n",
    "        placeholder_a:[[1,2,3], [12,23,33], [11,22,33], [112,232,344]]\n",
    "    })\n",
    "    print(resultado)"
   ]
  },
  {
   "cell_type": "code",
   "execution_count": null,
   "metadata": {},
   "outputs": [],
   "source": []
  }
 ],
 "metadata": {
  "kernelspec": {
   "display_name": "Python 3",
   "language": "python",
   "name": "python3"
  },
  "language_info": {
   "codemirror_mode": {
    "name": "ipython",
    "version": 3
   },
   "file_extension": ".py",
   "mimetype": "text/x-python",
   "name": "python",
   "nbconvert_exporter": "python",
   "pygments_lexer": "ipython3",
   "version": "3.5.3"
  }
 },
 "nbformat": 4,
 "nbformat_minor": 2
}
