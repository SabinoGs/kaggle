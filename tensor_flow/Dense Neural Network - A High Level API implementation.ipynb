{
 "cells": [
  {
   "cell_type": "code",
   "execution_count": 70,
   "metadata": {},
   "outputs": [],
   "source": [
    "import numpy as np\n",
    "import tensorflow as tf\n",
    "import pandas as pd\n",
    "import itertools\n",
    "from pprint import pprint as pp"
   ]
  },
  {
   "cell_type": "code",
   "execution_count": 92,
   "metadata": {},
   "outputs": [],
   "source": [
    "class DenseNN():\n",
    "    def __init__(self, input_layer, hidden_layers, output_layer):\n",
    "        if not isinstance(hidden_layers, list):\n",
    "            raise TypeError(\"hidden_layers must be a list\")\n",
    "        \n",
    "        self.input = input_layer\n",
    "        self.hidden_layers = hidden_layers\n",
    "        self.output_layer = output_layer\n",
    "        \n",
    "        self._inter = hidden.copy()\n",
    "        self._inter.insert(0, inputs)\n",
    "        self._inter.append(output)\n",
    "\n",
    "    @property\n",
    "    def weights(self):\n",
    "        RANGE = range(len(self._inter)-1)\n",
    "        return {ATUAL:tf.Variable(tf.random_normal([self._inter[ATUAL], self._inter[ATUAL+1]])) for ATUAL in RANGE}\n",
    "    \n",
    "    @property\n",
    "    def bias(self):\n",
    "        RANGE = range(len(self._inter)-1)\n",
    "        return {ATUAL:tf.Variable(tf.random_normal([self._inter[ATUAL+1]])) for ATUAL in RANGE}\n",
    "    \n",
    "\n",
    "    def predict(self, data):\n",
    "        raise NotImplementedError()\n",
    "        \n",
    "    def train(self, inputs, labels):\n",
    "        raise NotImplementedError()\n",
    "        \n",
    "    def _architecture():\n",
    "        "
   ]
  },
  {
   "cell_type": "code",
   "execution_count": 93,
   "metadata": {},
   "outputs": [],
   "source": [
    "dense = DenseNN(10, [5,5,5], 10)"
   ]
  },
  {
   "cell_type": "code",
   "execution_count": 96,
   "metadata": {},
   "outputs": [
    {
     "data": {
      "text/plain": [
       "{0: <tf.Variable 'Variable_25:0' shape=(10, 5) dtype=float32_ref>,\n",
       " 1: <tf.Variable 'Variable_26:0' shape=(5, 5) dtype=float32_ref>,\n",
       " 2: <tf.Variable 'Variable_27:0' shape=(5, 5) dtype=float32_ref>,\n",
       " 3: <tf.Variable 'Variable_28:0' shape=(5, 10) dtype=float32_ref>,\n",
       " 4: <tf.Variable 'Variable_29:0' shape=(10, 10) dtype=float32_ref>}"
      ]
     },
     "execution_count": 96,
     "metadata": {},
     "output_type": "execute_result"
    }
   ],
   "source": [
    "dense.weights"
   ]
  },
  {
   "cell_type": "code",
   "execution_count": 77,
   "metadata": {},
   "outputs": [
    {
     "data": {
      "text/plain": [
       "(None, None)"
      ]
     },
     "execution_count": 77,
     "metadata": {},
     "output_type": "execute_result"
    }
   ],
   "source": [
    "inputs = 10\n",
    "hidden = [5,5,5,10]\n",
    "output = 10\n",
    "inter = hidden.copy() \n",
    "inter.insert(0, inputs), inter.append(output)"
   ]
  },
  {
   "cell_type": "code",
   "execution_count": 78,
   "metadata": {},
   "outputs": [
    {
     "data": {
      "text/plain": [
       "[10, 5, 5, 5, 10, 10]"
      ]
     },
     "execution_count": 78,
     "metadata": {},
     "output_type": "execute_result"
    }
   ],
   "source": [
    "inter"
   ]
  },
  {
   "cell_type": "code",
   "execution_count": 80,
   "metadata": {},
   "outputs": [
    {
     "name": "stdout",
     "output_type": "stream",
     "text": [
      "0 10 5\n",
      "1 5 5\n",
      "2 5 5\n",
      "3 5 10\n",
      "4 10 10\n",
      "{0: array([[0.94279222, 0.84187769, 0.54707948, 0.15494833, 0.32348529],\n",
      "       [0.38359454, 0.71656624, 0.63163901, 0.77355958, 0.605428  ],\n",
      "       [0.20107755, 0.2786109 , 0.15618064, 0.14640374, 0.11539816],\n",
      "       [0.11478233, 0.02864893, 0.27694045, 0.43121572, 0.45901126],\n",
      "       [0.86145711, 0.62412163, 0.41204364, 0.67165022, 0.58583508],\n",
      "       [0.01403217, 0.8785924 , 0.63959009, 0.72191296, 0.29595415],\n",
      "       [0.50148826, 0.16203747, 0.56443574, 0.5034262 , 0.82404393],\n",
      "       [0.67450326, 0.10433589, 0.1522322 , 0.40179054, 0.6090783 ],\n",
      "       [0.64482077, 0.62863377, 0.02580144, 0.95622923, 0.75752931],\n",
      "       [0.59669104, 0.51868352, 0.39722026, 0.98573438, 0.85602412]]),\n",
      " 1: array([[0.1873413 , 0.97943657, 0.98448778, 0.44429816, 0.17729707],\n",
      "       [0.5607882 , 0.86257853, 0.23885111, 0.24032337, 0.87385506],\n",
      "       [0.50374193, 0.39257547, 0.72051012, 0.47922544, 0.14808669],\n",
      "       [0.42276082, 0.60098445, 0.63593003, 0.9303319 , 0.3471211 ],\n",
      "       [0.90635395, 0.62882905, 0.59251753, 0.68496788, 0.06921252]]),\n",
      " 2: array([[0.75546203, 0.35011618, 0.18552258, 0.1783782 , 0.71958291],\n",
      "       [0.93839957, 0.48925499, 0.34121851, 0.67767352, 0.2281708 ],\n",
      "       [0.90411239, 0.59516671, 0.54816297, 0.98892735, 0.43768334],\n",
      "       [0.40382153, 0.03155636, 0.37710927, 0.38785063, 0.85020917],\n",
      "       [0.17661909, 0.00975628, 0.50411345, 0.29824094, 0.98500241]]),\n",
      " 3: array([[0.83627807, 0.44043127, 0.21467555, 0.3448681 , 0.6316151 ,\n",
      "        0.69631494, 0.30570463, 0.11878225, 0.47262165, 0.71382339],\n",
      "       [0.31636857, 0.74560301, 0.67481598, 0.84469399, 0.12289878,\n",
      "        0.08063389, 0.1926649 , 0.84817631, 0.3873739 , 0.64936461],\n",
      "       [0.00852504, 0.73648289, 0.27423821, 0.06800356, 0.55562816,\n",
      "        0.74613207, 0.02142387, 0.36130836, 0.53868005, 0.86361426],\n",
      "       [0.10865652, 0.46383999, 0.56381614, 0.4043435 , 0.08490953,\n",
      "        0.17393355, 0.17507969, 0.21861061, 0.41421351, 0.60982293],\n",
      "       [0.43835918, 0.91955488, 0.5901377 , 0.20617717, 0.41899196,\n",
      "        0.23412754, 0.00328217, 0.79000249, 0.95216955, 0.26667095]]),\n",
      " 4: array([[0.18394495, 0.45892184, 0.48915809, 0.93348511, 0.62711172,\n",
      "        0.28142446, 0.79815866, 0.53179564, 0.5057695 , 0.81153808],\n",
      "       [0.20285348, 0.30492   , 0.30632631, 0.51987049, 0.49641115,\n",
      "        0.16922167, 0.95522443, 0.38461209, 0.01324662, 0.90129303],\n",
      "       [0.46429121, 0.91051749, 0.62063318, 0.79222544, 0.7932614 ,\n",
      "        0.07344583, 0.48166211, 0.22562643, 0.79976634, 0.12490266],\n",
      "       [0.09898551, 0.73568366, 0.526853  , 0.88456824, 0.94693612,\n",
      "        0.97348813, 0.05794853, 0.38523652, 0.7528664 , 0.25769834],\n",
      "       [0.59190746, 0.68072242, 0.28259163, 0.84270758, 0.32983739,\n",
      "        0.41792406, 0.43428097, 0.6659769 , 0.11634118, 0.73876843],\n",
      "       [0.13476086, 0.70608597, 0.44101824, 0.84562552, 0.89198137,\n",
      "        0.18762726, 0.0146297 , 0.22316139, 0.2686414 , 0.28736277],\n",
      "       [0.10734363, 0.23400453, 0.38545816, 0.40841306, 0.58551163,\n",
      "        0.06801766, 0.23635412, 0.56435449, 0.4578315 , 0.41757359],\n",
      "       [0.42556701, 0.7779739 , 0.72310328, 0.60059152, 0.92702108,\n",
      "        0.99132264, 0.6291257 , 0.33716781, 0.53766596, 0.39330553],\n",
      "       [0.76492005, 0.20102364, 0.21785876, 0.94559144, 0.90716504,\n",
      "        0.6524206 , 0.79862167, 0.80266901, 0.10164766, 0.80982926],\n",
      "       [0.9728908 , 0.08099065, 0.14829964, 0.37176194, 0.89569727,\n",
      "        0.86294265, 0.15235259, 0.1538788 , 0.93143476, 0.22021279]])}\n",
      "{0: array([0.55903615, 0.94097253, 0.29356361, 0.32829265, 0.8412018 ]),\n",
      " 1: array([0.65333027, 0.39046525, 0.64307483, 0.52781887, 0.48192136]),\n",
      " 2: array([0.65681463, 0.96141208, 0.29602081, 0.84592328, 0.32993152]),\n",
      " 3: array([0.59908138, 0.46347166, 0.54718797, 0.5226816 , 0.42902434,\n",
      "       0.27441244, 0.59197071, 0.67787952, 0.57604032, 0.25148981]),\n",
      " 4: array([0.57558224, 0.80765643, 0.15426599, 0.09694942, 0.10401456,\n",
      "       0.19303566, 0.26733303, 0.34144584, 0.4440515 , 0.71357353])}\n"
     ]
    }
   ],
   "source": [
    "RANGE_INTERACAO = len(inter)-1\n",
    "\n",
    "\n",
    "weights = dict()\n",
    "bias = dict()\n",
    "\n",
    "for layer_atual in range(RANGE_INTERACAO):\n",
    "    PROXIMO_LAYER = layer_atual + 1\n",
    "    print(layer_atual, inter[layer_atual], inter[PROXIMO_LAYER])\n",
    "    weights[layer_atual] = np.random.rand(inter[layer_atual],inter[PROXIMO_LAYER])\n",
    "    bias[layer_atual] = np.random.rand(inter[PROXIMO_LAYER])\n",
    "\n",
    "    \n",
    "pp(weights)\n",
    "pp(bias)"
   ]
  },
  {
   "cell_type": "code",
   "execution_count": null,
   "metadata": {},
   "outputs": [],
   "source": []
  }
 ],
 "metadata": {
  "kernelspec": {
   "display_name": "Python 3",
   "language": "python",
   "name": "python3"
  },
  "language_info": {
   "codemirror_mode": {
    "name": "ipython",
    "version": 3
   },
   "file_extension": ".py",
   "mimetype": "text/x-python",
   "name": "python",
   "nbconvert_exporter": "python",
   "pygments_lexer": "ipython3",
   "version": "3.5.3"
  }
 },
 "nbformat": 4,
 "nbformat_minor": 2
}
