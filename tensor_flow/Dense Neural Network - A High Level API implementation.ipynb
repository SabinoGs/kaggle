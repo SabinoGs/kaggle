{
 "cells": [
  {
   "cell_type": "code",
   "execution_count": 111,
   "metadata": {},
   "outputs": [],
   "source": [
    "import numpy as np\n",
    "import tensorflow as tf\n",
    "import pandas as pd\n",
    "import itertools"
   ]
  },
  {
   "cell_type": "code",
   "execution_count": 117,
   "metadata": {},
   "outputs": [],
   "source": [
    "class DenseNN():\n",
    "    def __init__(self, input_neurons, hidden_neurons, n_classes):\n",
    "        if not isinstance(hidden_neurons, list):\n",
    "            raise TypeError(\"hidden_neurons must be a list\")\n",
    "        \n",
    "        self.input_neurons = input_neurons\n",
    "        self.hidden_neurons = hidden_neurons\n",
    "        self.n_classes = n_classes\n",
    "        \n",
    "        self._inter = hidden_neurons.copy()\n",
    "        self._inter.insert(0, self.input_neurons)\n",
    "        self._inter.append(n_classes)\n",
    "\n",
    "    @property\n",
    "    def weights(self):\n",
    "        RANGE = range(len(self._inter)-1)\n",
    "        return {ATUAL:tf.Variable(tf.random_normal([self._inter[ATUAL], self._inter[ATUAL+1]])) for ATUAL in RANGE}\n",
    "    \n",
    "    @property\n",
    "    def bias(self):\n",
    "        RANGE = range(len(self._inter)-1)\n",
    "        return {ATUAL:tf.Variable(tf.random_normal([self._inter[ATUAL+1]])) for ATUAL in RANGE}\n",
    "    \n",
    "\n",
    "    def predict(self, data):\n",
    "        raise NotImplementedError()\n",
    "        \n",
    "#     @property\n",
    "#     def xph(self):\n",
    "#         return tf.placeholder(dtype=tf.float32, shape=[None, self.input_neurons])\n",
    "    \n",
    "#     @property\n",
    "#     def yph(self):\n",
    "#         return tf.placeholder(dtype=tf.float32, shape=[None, self.n_classes])\n",
    "        \n",
    "    def train(self, inputs, labels, batch_size=42, epochs=1500, epoch_verbose=100):\n",
    "        \n",
    "        xph = tf.placeholder(dtype=tf.float32, shape=[None, self.input_neurons])\n",
    "        yph = tf.placeholder(dtype=tf.float32, shape=[None, self.n_classes])\n",
    "        \n",
    "        with tf.Session() as sess:\n",
    "            sess.run(tf.global_variables_initializer())\n",
    "            total_cost = 0.0\n",
    "            for epoch in range(epochs):\n",
    "                \n",
    "                batches = self._generate_batch(inputs, labels, batch_size)\n",
    "                TOTAL_INT = int(len(inputs)/batch_size)\n",
    "                \n",
    "                for x_batch, y_batch in batches:\n",
    "                    _, cost = sess.run([self.optimizer, self.erro],\n",
    "                                       feed_dict={xph: x_batch, yph: y_batch})\n",
    "                    total_cost = cost/TOTAL_INT\n",
    "                \n",
    "                if epoch%epoch_verbose == 0:\n",
    "                    print(\"Epoch {} - Loss: {}\".format(epoch, total_cost))\n",
    "                \n",
    "            print(\"Train Finished in {} epochs - Loss: {}\".format(epochs, total_cost))\n",
    "    \n",
    "    \n",
    "    def _generate_batch(self, x, y, batch_size=42):\n",
    "        \n",
    "        NUMBER_OF_BATCHS = int(len(data)/batch_size)\n",
    "        \n",
    "        for index in range(NUMBER_OF_BATCHS):\n",
    "            NEXT = index+1\n",
    "            yield x[index*batch_size:NEXT*batch_size], y[index*batch_size:NEXT*batch_size]\n",
    "    \n",
    "    \n",
    "    \n",
    "    def _architecture(self):\n",
    "        RANGE = range(len(self._inter[1:-1]))\n",
    "        \n",
    "        LAST_WEIGHT_INDEX = None\n",
    "        \n",
    "        #input layer initialization\n",
    "        layer = tf.nn.relu(\n",
    "            tf.add(\n",
    "                tf.matmul(inputs, self.weights[0]),\n",
    "                self.bias[0]\n",
    "            )\n",
    "        )\n",
    "        \n",
    "        #Hidden layers initialization\n",
    "        for index in RANGE:\n",
    "            layer =  tf.nn.relu(\n",
    "                tf.add(\n",
    "                    tf.matmul(layer, self.weights[index]),\n",
    "                    self.bias[index]\n",
    "                )\n",
    "            )\n",
    "            \n",
    "            LAST_WEIGHT_INDEX = index\n",
    "        \n",
    "        # output layer initialization\n",
    "        layer = tf.add(\n",
    "            tf.matmul(layer, self.weigths[LAST_WEIGHT_INDEX])\n",
    "        )\n",
    "        \n",
    "        return layer\n",
    "    \n",
    "    @property\n",
    "    def erro():\n",
    "        model = self._architecture(self.xph)\n",
    "        erro = tf.reduce_mean(\n",
    "            tf.nn.softmax_cross_entropy_with_logits_v2(\n",
    "                logits=model,\n",
    "                labels=self.yph\n",
    "            )\n",
    "        )\n",
    "        return erro\n",
    "    \n",
    "    @property\n",
    "    def optimizer():\n",
    "        return tf.train.AdamOptimizer().minimize(self.erro)\n",
    "    \n",
    "        "
   ]
  },
  {
   "cell_type": "code",
   "execution_count": 118,
   "metadata": {},
   "outputs": [],
   "source": [
    "dense = DenseNN(10, [5,5,5], 10)"
   ]
  },
  {
   "cell_type": "code",
   "execution_count": 119,
   "metadata": {},
   "outputs": [
    {
     "data": {
      "text/plain": [
       "{0: <tf.Variable 'Variable_52:0' shape=(10, 5) dtype=float32_ref>,\n",
       " 1: <tf.Variable 'Variable_53:0' shape=(5, 5) dtype=float32_ref>,\n",
       " 2: <tf.Variable 'Variable_54:0' shape=(5, 5) dtype=float32_ref>,\n",
       " 3: <tf.Variable 'Variable_55:0' shape=(5, 10) dtype=float32_ref>}"
      ]
     },
     "execution_count": 119,
     "metadata": {},
     "output_type": "execute_result"
    }
   ],
   "source": [
    "dense.weights"
   ]
  },
  {
   "cell_type": "code",
   "execution_count": 120,
   "metadata": {},
   "outputs": [],
   "source": [
    "from sklearn.datasets import load_iris"
   ]
  },
  {
   "cell_type": "code",
   "execution_count": 121,
   "metadata": {},
   "outputs": [
    {
     "name": "stdout",
     "output_type": "stream",
     "text": [
      "Epoch 0 - Loss: 0.0\n",
      "Epoch 100 - Loss: 0.0\n",
      "Epoch 200 - Loss: 0.0\n",
      "Epoch 300 - Loss: 0.0\n",
      "Epoch 400 - Loss: 0.0\n",
      "Epoch 500 - Loss: 0.0\n",
      "Epoch 600 - Loss: 0.0\n",
      "Epoch 700 - Loss: 0.0\n",
      "Epoch 800 - Loss: 0.0\n",
      "Epoch 900 - Loss: 0.0\n",
      "Epoch 1000 - Loss: 0.0\n",
      "Epoch 1100 - Loss: 0.0\n",
      "Epoch 1200 - Loss: 0.0\n",
      "Epoch 1300 - Loss: 0.0\n",
      "Epoch 1400 - Loss: 0.0\n",
      "Train Finished in 1500 epochs - Loss: 0.0\n"
     ]
    }
   ],
   "source": [
    "iris = load_iris()\n",
    "\n",
    "dense.train(iris.data, iris.target)"
   ]
  }
 ],
 "metadata": {
  "kernelspec": {
   "display_name": "Python 3",
   "language": "python",
   "name": "python3"
  },
  "language_info": {
   "codemirror_mode": {
    "name": "ipython",
    "version": 3
   },
   "file_extension": ".py",
   "mimetype": "text/x-python",
   "name": "python",
   "nbconvert_exporter": "python",
   "pygments_lexer": "ipython3",
   "version": "3.5.3"
  }
 },
 "nbformat": 4,
 "nbformat_minor": 2
}
