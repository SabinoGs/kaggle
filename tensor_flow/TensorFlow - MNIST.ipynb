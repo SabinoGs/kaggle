{
 "cells": [
  {
   "cell_type": "code",
   "execution_count": 2,
   "metadata": {},
   "outputs": [],
   "source": [
    "import numpy as np\n",
    "import pandas as pd\n",
    "import tensorflow as tf\n",
    "import pathlib\n",
    "import os\n",
    "import matplotlib.pyplot as plt\n",
    "\n",
    "from tensorflow.examples.tutorials.mnist import input_data\n",
    "\n",
    "\n",
    "%matplotlib inline"
   ]
  },
  {
   "cell_type": "code",
   "execution_count": 3,
   "metadata": {},
   "outputs": [
    {
     "name": "stdout",
     "output_type": "stream",
     "text": [
      "WARNING:tensorflow:From <ipython-input-3-9ba06afd791b>:1: read_data_sets (from tensorflow.contrib.learn.python.learn.datasets.mnist) is deprecated and will be removed in a future version.\n",
      "Instructions for updating:\n",
      "Please use alternatives such as official/mnist/dataset.py from tensorflow/models.\n",
      "WARNING:tensorflow:From /home/gustavo/Envs/machine/lib/python3.5/site-packages/tensorflow/contrib/learn/python/learn/datasets/mnist.py:260: maybe_download (from tensorflow.contrib.learn.python.learn.datasets.base) is deprecated and will be removed in a future version.\n",
      "Instructions for updating:\n",
      "Please write your own downloading logic.\n",
      "WARNING:tensorflow:From /home/gustavo/Envs/machine/lib/python3.5/site-packages/tensorflow/contrib/learn/python/learn/datasets/mnist.py:262: extract_images (from tensorflow.contrib.learn.python.learn.datasets.mnist) is deprecated and will be removed in a future version.\n",
      "Instructions for updating:\n",
      "Please use tf.data to implement this functionality.\n",
      "Extracting mnist/train-images-idx3-ubyte.gz\n",
      "WARNING:tensorflow:From /home/gustavo/Envs/machine/lib/python3.5/site-packages/tensorflow/contrib/learn/python/learn/datasets/mnist.py:267: extract_labels (from tensorflow.contrib.learn.python.learn.datasets.mnist) is deprecated and will be removed in a future version.\n",
      "Instructions for updating:\n",
      "Please use tf.data to implement this functionality.\n",
      "Extracting mnist/train-labels-idx1-ubyte.gz\n",
      "WARNING:tensorflow:From /home/gustavo/Envs/machine/lib/python3.5/site-packages/tensorflow/contrib/learn/python/learn/datasets/mnist.py:110: dense_to_one_hot (from tensorflow.contrib.learn.python.learn.datasets.mnist) is deprecated and will be removed in a future version.\n",
      "Instructions for updating:\n",
      "Please use tf.one_hot on tensors.\n",
      "Extracting mnist/t10k-images-idx3-ubyte.gz\n",
      "Extracting mnist/t10k-labels-idx1-ubyte.gz\n",
      "WARNING:tensorflow:From /home/gustavo/Envs/machine/lib/python3.5/site-packages/tensorflow/contrib/learn/python/learn/datasets/mnist.py:290: DataSet.__init__ (from tensorflow.contrib.learn.python.learn.datasets.mnist) is deprecated and will be removed in a future version.\n",
      "Instructions for updating:\n",
      "Please use alternatives such as official/mnist/dataset.py from tensorflow/models.\n"
     ]
    }
   ],
   "source": [
    "mnist = input_data.read_data_sets('mnist/', one_hot=True)"
   ]
  },
  {
   "cell_type": "markdown",
   "metadata": {},
   "source": [
    "# Carregando as imagens\n",
    "\n",
    "As imagens estão representadas como um array único. Isso significa que a imagem está como um array de 784 dimensões (28x28). Imagens são representadas como matrizes, geralmente. Então, em alguns algoritmos, há a necessidade de dar um reshape nela"
   ]
  },
  {
   "cell_type": "code",
   "execution_count": 4,
   "metadata": {},
   "outputs": [
    {
     "name": "stdout",
     "output_type": "stream",
     "text": [
      "(55000, 784) (55000, 10)\n",
      "(10000, 784) (10000, 10)\n"
     ]
    }
   ],
   "source": [
    "x_train = mnist.train.images\n",
    "y_train = mnist.train.labels\n",
    "print(x_train.shape, y_train.shape)\n",
    "\n",
    "x_test = mnist.test.images\n",
    "y_test = mnist.test.labels\n",
    "print(x_test.shape, y_test.shape)"
   ]
  },
  {
   "cell_type": "markdown",
   "metadata": {},
   "source": [
    "**O matplotlib não irá aceitar um array de 784 dimensões como uma imagem. Por isso, tem que dar o reshape**"
   ]
  },
  {
   "cell_type": "code",
   "execution_count": 5,
   "metadata": {},
   "outputs": [
    {
     "data": {
      "text/plain": [
       "<matplotlib.image.AxesImage at 0x7fb16f83c860>"
      ]
     },
     "execution_count": 5,
     "metadata": {},
     "output_type": "execute_result"
    },
    {
     "data": {
      "image/png": "[encoded data removed]",
      "text/plain": [
       "<Figure size 432x288 with 1 Axes>"
      ]
     },
     "metadata": {},
     "output_type": "display_data"
    }
   ],
   "source": [
    "plt.title('Classe: {}'.format(np.argmax(y_train[5])))\n",
    "plt.imshow(x_train[5].reshape(28,28), cmap='gray')"
   ]
  },
  {
   "cell_type": "markdown",
   "metadata": {},
   "source": [
    "# Construção da arquitetura da Rede"
   ]
  },
  {
   "cell_type": "code",
   "execution_count": 6,
   "metadata": {},
   "outputs": [],
   "source": [
    "# Definição do input. O numero de neuronios do input é o tamanho do array\n",
    "NEURONIOS_INPUT = x_train.shape[1]\n",
    "\n",
    "\n",
    "# Definição do numero de hidden Layers. Para esse exemplo, serão utilizados 3 hidden layers\n",
    "# Utilizarei o mesmo nome do layer, pois eles serão entrada um do outro\n",
    "NEURONIOS_HIDDEN = int((x_train.shape[1]+y_train.shape[1])/2)\n",
    "\n",
    "# Definição do numero de neuronios da camada de saída. \n",
    "# Os neuronios dessa camada correspondem as classes possíveis. \n",
    "\n",
    "NEURONIOS_OUTPUT = y_train.shape[1]"
   ]
  },
  {
   "cell_type": "code",
   "execution_count": 7,
   "metadata": {},
   "outputs": [
    {
     "name": "stdout",
     "output_type": "stream",
     "text": [
      "Rede: 784 -> 397 -> 397 -> 397 -> 10\n"
     ]
    }
   ],
   "source": [
    "print(\"Rede: {} -> {} -> {} -> {} -> {}\".format(\n",
    "    NEURONIOS_INPUT,\n",
    "    NEURONIOS_HIDDEN,\n",
    "    NEURONIOS_HIDDEN,\n",
    "    NEURONIOS_HIDDEN,\n",
    "    NEURONIOS_OUTPUT\n",
    "))"
   ]
  },
  {
   "cell_type": "markdown",
   "metadata": {},
   "source": [
    "## Definindo numero de camadas da rede\n",
    "\n",
    "TODO: Tentativa de identificar o numero de camadas da rede para criar um loop que inicializa os pesos e bias da rede"
   ]
  },
  {
   "cell_type": "code",
   "execution_count": 8,
   "metadata": {},
   "outputs": [],
   "source": [
    "NUMERO_HIDDEN_LAYERS = 3\n",
    "\n",
    "# O total de layers dessa rede, nessa arquitetura (DenseNN), é 1 input layer\n",
    "# 1 output layer e N hidden layers. Por isso, tem-se que o numero total de layers é:\n",
    "\n",
    "TOTAL_LAYES = NUMERO_HIDDEN_LAYERS + 2"
   ]
  },
  {
   "cell_type": "markdown",
   "metadata": {},
   "source": [
    "## Criando os pesos e bias da rede"
   ]
  },
  {
   "cell_type": "code",
   "execution_count": 9,
   "metadata": {},
   "outputs": [],
   "source": [
    "pesos = {\n",
    "    'oculta1': tf.Variable(tf.random_normal([NEURONIOS_INPUT, NEURONIOS_HIDDEN])),\n",
    "    'oculta2': tf.Variable(tf.random_normal([NEURONIOS_HIDDEN, NEURONIOS_HIDDEN])),\n",
    "    'oculta3':tf.Variable(tf.random_normal([NEURONIOS_HIDDEN, NEURONIOS_HIDDEN])),\n",
    "    'saida':  tf.Variable(tf.random_normal([NEURONIOS_HIDDEN, NEURONIOS_OUTPUT]))\n",
    "}\n",
    "\n",
    "bias = {\n",
    "    'oculta1': tf.Variable(tf.random_normal([NEURONIOS_HIDDEN])),\n",
    "    'oculta2': tf.Variable(tf.random_normal([NEURONIOS_HIDDEN])),\n",
    "    'oculta3':tf.Variable(tf.random_normal([NEURONIOS_HIDDEN])),\n",
    "    'saida':  tf.Variable(tf.random_normal([NEURONIOS_OUTPUT]))\n",
    "}"
   ]
  },
  {
   "cell_type": "markdown",
   "metadata": {},
   "source": [
    "## Definição dos placeholders para a nossa rede"
   ]
  },
  {
   "cell_type": "code",
   "execution_count": 10,
   "metadata": {},
   "outputs": [],
   "source": [
    "xph = tf.placeholder(dtype=tf.float32, shape=[None, NEURONIOS_INPUT])\n",
    "yph = tf.placeholder(dtype=tf.float32, shape=[None, NEURONIOS_OUTPUT])"
   ]
  },
  {
   "cell_type": "markdown",
   "metadata": {},
   "source": [
    "## Definição das funções de ativação\n",
    "\n",
    "Lembre-se que não é realizado essa operação para a `camada de input`. Os valores da camada de input são os próprios inputs!"
   ]
  },
  {
   "cell_type": "code",
   "execution_count": 24,
   "metadata": {},
   "outputs": [],
   "source": [
    "def mlp(inputs, pesos, bias):\n",
    "\n",
    "    valores_camada_oculta = tf.nn.relu(\n",
    "        tf.add(\n",
    "            tf.matmul(inputs, pesos['oculta1']), #camada 1\n",
    "            bias['oculta1'])\n",
    "    )\n",
    "\n",
    "    valores_camada_oculta = tf.nn.relu(\n",
    "        tf.add(\n",
    "            tf.matmul(valores_camada_oculta, pesos['oculta2']), #camada 2\n",
    "            bias['oculta2'])\n",
    "    )\n",
    "    valores_camada_oculta = tf.nn.relu(\n",
    "        tf.add(\n",
    "            tf.matmul(valores_camada_oculta, pesos['oculta3']), #camada 3\n",
    "            bias['oculta3'])\n",
    "    )\n",
    "\n",
    "    valores_camada_saida = tf.add(\n",
    "            tf.matmul(valores_camada_oculta, pesos['saida']),  # saida\n",
    "            bias['saida'])\n",
    "    \n",
    "    \n",
    "    return valores_camada_saida"
   ]
  },
  {
   "cell_type": "code",
   "execution_count": 25,
   "metadata": {},
   "outputs": [],
   "source": [
    "modelo = mlp(xph, pesos, bias)\n",
    "erro = tf.reduce_mean(tf.nn.softmax_cross_entropy_with_logits_v2(logits=modelo, labels=yph))\n",
    "otimizador = tf.train.AdamOptimizer().minimize(erro)"
   ]
  },
  {
   "cell_type": "code",
   "execution_count": null,
   "metadata": {},
   "outputs": [
    {
     "name": "stdout",
     "output_type": "stream",
     "text": [
      "Epoca: 0 - Erro: 35660.25390625\n",
      "Epoca: 100 - Erro: 2843.841796875\n",
      "Epoca: 200 - Erro: 1508.28662109375\n",
      "Epoca: 300 - Erro: 1394.343505859375\n",
      "Epoca: 400 - Erro: 863.279052734375\n",
      "Epoca: 500 - Erro: 1472.333251953125\n",
      "Epoca: 600 - Erro: 1097.703857421875\n",
      "Epoca: 700 - Erro: 515.0111694335938\n",
      "Epoca: 800 - Erro: 701.1586303710938\n",
      "Epoca: 900 - Erro: 866.971435546875\n",
      "Epoca: 1000 - Erro: 384.2241516113281\n",
      "Epoca: 1100 - Erro: 669.527099609375\n",
      "Epoca: 1200 - Erro: 290.841064453125\n",
      "Epoca: 1300 - Erro: 442.1612548828125\n",
      "Epoca: 1400 - Erro: 90.76585388183594\n",
      "Epoca: 1500 - Erro: 121.48046875\n",
      "Epoca: 1600 - Erro: 270.4407043457031\n",
      "Epoca: 1700 - Erro: 184.67959594726562\n",
      "Epoca: 1800 - Erro: 243.09967041015625\n",
      "Epoca: 1900 - Erro: 48.79304122924805\n",
      "Epoca: 2000 - Erro: 196.09963989257812\n"
     ]
    }
   ],
   "source": [
    "EPOCAS = 6000\n",
    "\n",
    "with tf.Session() as sess:\n",
    "    sess.run(tf.global_variables_initializer())\n",
    "    \n",
    "    # No treinamento da rede, percorreremos todos os Registros disponíveis\n",
    "    # em cada uma das épocas! Então, se o dado tiver 100k exemplos,\n",
    "    # o codigo abaixo percorrerá 100k exemplos N vezes.\n",
    "    for epoca in range(EPOCAS):\n",
    "        \n",
    "        # Entretando, calculamos o erro da rede a cada 128 registros\n",
    "        x_batch, y_batch = mnist.train.next_batch(128)\n",
    "        _, custo = sess.run([otimizador, erro], feed_dict={xph: x_batch, yph: y_batch})\n",
    "        \n",
    "        if epoca%100 == 0:\n",
    "            print('Epoca: {} - Erro: {}'.format(epoca, custo))\n",
    "    \n",
    "    # Dou um sess.run nos pesos e bias e atribuo o resultado para duas variaveis\n",
    "    # Assim, posso utilizar essas variaveis para fazer minhas predições\n",
    "    w, b = sess.run([pesos, bias]) \n",
    "    print('Treinamento terminado')"
   ]
  },
  {
   "cell_type": "markdown",
   "metadata": {},
   "source": [
    "## Visualização dos pesos e bias dessa rede"
   ]
  },
  {
   "cell_type": "code",
   "execution_count": null,
   "metadata": {},
   "outputs": [],
   "source": [
    "print(w, b)"
   ]
  },
  {
   "cell_type": "code",
   "execution_count": null,
   "metadata": {
    "scrolled": true
   },
   "outputs": [],
   "source": [
    "with tf.Session() as sess:\n",
    "    sess.run(tf.global_variables_initializer())\n",
    "    previsoes =  tf.nn.softmax(mlp(xph, w, b))\n",
    "    previsao = sess.run(previsoes, feed_dict={xph: x_test})\n",
    "    previsao = tf.argmax(previsao, axis=1)\n",
    "    previsao = sess.run(previsao)"
   ]
  },
  {
   "cell_type": "code",
   "execution_count": null,
   "metadata": {},
   "outputs": [],
   "source": [
    "previsao"
   ]
  }
 ],
 "metadata": {
  "kernelspec": {
   "display_name": "Python 3",
   "language": "python",
   "name": "python3"
  },
  "language_info": {
   "codemirror_mode": {
    "name": "ipython",
    "version": 3
   },
   "file_extension": ".py",
   "mimetype": "text/x-python",
   "name": "python",
   "nbconvert_exporter": "python",
   "pygments_lexer": "ipython3",
   "version": "3.5.3"
  }
 },
 "nbformat": 4,
 "nbformat_minor": 2
}
