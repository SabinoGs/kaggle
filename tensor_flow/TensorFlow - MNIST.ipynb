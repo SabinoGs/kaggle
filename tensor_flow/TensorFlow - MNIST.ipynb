{
 "cells": [
  {
   "cell_type": "code",
   "execution_count": 1,
   "metadata": {},
   "outputs": [],
   "source": [
    "import numpy as np\n",
    "import pandas as pd\n",
    "import tensorflow as tf\n",
    "import pathlib\n",
    "import os\n",
    "import matplotlib.pyplot as plt\n",
    "\n",
    "from tensorflow.examples.tutorials.mnist import input_data\n",
    "\n",
    "\n",
    "%matplotlib inline"
   ]
  },
  {
   "cell_type": "code",
   "execution_count": 2,
   "metadata": {},
   "outputs": [
    {
     "name": "stdout",
     "output_type": "stream",
     "text": [
      "WARNING:tensorflow:From <ipython-input-2-9ba06afd791b>:1: read_data_sets (from tensorflow.contrib.learn.python.learn.datasets.mnist) is deprecated and will be removed in a future version.\n",
      "Instructions for updating:\n",
      "Please use alternatives such as official/mnist/dataset.py from tensorflow/models.\n",
      "WARNING:tensorflow:From /home/gustavo/Envs/deep/lib/python3.5/site-packages/tensorflow/contrib/learn/python/learn/datasets/mnist.py:260: maybe_download (from tensorflow.contrib.learn.python.learn.datasets.base) is deprecated and will be removed in a future version.\n",
      "Instructions for updating:\n",
      "Please write your own downloading logic.\n",
      "WARNING:tensorflow:From /home/gustavo/Envs/deep/lib/python3.5/site-packages/tensorflow/contrib/learn/python/learn/datasets/mnist.py:262: extract_images (from tensorflow.contrib.learn.python.learn.datasets.mnist) is deprecated and will be removed in a future version.\n",
      "Instructions for updating:\n",
      "Please use tf.data to implement this functionality.\n",
      "Extracting mnist/train-images-idx3-ubyte.gz\n",
      "WARNING:tensorflow:From /home/gustavo/Envs/deep/lib/python3.5/site-packages/tensorflow/contrib/learn/python/learn/datasets/mnist.py:267: extract_labels (from tensorflow.contrib.learn.python.learn.datasets.mnist) is deprecated and will be removed in a future version.\n",
      "Instructions for updating:\n",
      "Please use tf.data to implement this functionality.\n",
      "Extracting mnist/train-labels-idx1-ubyte.gz\n",
      "WARNING:tensorflow:From /home/gustavo/Envs/deep/lib/python3.5/site-packages/tensorflow/contrib/learn/python/learn/datasets/mnist.py:110: dense_to_one_hot (from tensorflow.contrib.learn.python.learn.datasets.mnist) is deprecated and will be removed in a future version.\n",
      "Instructions for updating:\n",
      "Please use tf.one_hot on tensors.\n",
      "Extracting mnist/t10k-images-idx3-ubyte.gz\n",
      "Extracting mnist/t10k-labels-idx1-ubyte.gz\n",
      "WARNING:tensorflow:From /home/gustavo/Envs/deep/lib/python3.5/site-packages/tensorflow/contrib/learn/python/learn/datasets/mnist.py:290: DataSet.__init__ (from tensorflow.contrib.learn.python.learn.datasets.mnist) is deprecated and will be removed in a future version.\n",
      "Instructions for updating:\n",
      "Please use alternatives such as official/mnist/dataset.py from tensorflow/models.\n"
     ]
    }
   ],
   "source": [
    "mnist = input_data.read_data_sets('mnist/', one_hot=True)"
   ]
  },
  {
   "cell_type": "markdown",
   "metadata": {},
   "source": [
    "# Carregando as imagens\n",
    "\n",
    "As imagens estão representadas como um array único. Isso significa que a imagem está como um array de 784 dimensões (28x28). Imagens são representadas como matrizes, geralmente. Então, em alguns algoritmos, há a necessidade de dar um reshape nela"
   ]
  },
  {
   "cell_type": "code",
   "execution_count": 3,
   "metadata": {},
   "outputs": [
    {
     "name": "stdout",
     "output_type": "stream",
     "text": [
      "(55000, 784) (55000, 10)\n",
      "(10000, 784) (10000, 10)\n"
     ]
    }
   ],
   "source": [
    "x_train = mnist.train.images\n",
    "y_train = mnist.train.labels\n",
    "print(x_train.shape, y_train.shape)\n",
    "\n",
    "x_test = mnist.test.images\n",
    "y_test = mnist.test.labels\n",
    "print(x_test.shape, y_test.shape)"
   ]
  },
  {
   "cell_type": "markdown",
   "metadata": {},
   "source": [
    "**O matplotlib não irá aceitar um array de 784 dimensões como uma imagem. Por isso, tem que dar o reshape**"
   ]
  },
  {
   "cell_type": "code",
   "execution_count": 4,
   "metadata": {},
   "outputs": [
    {
     "data": {
      "text/plain": [
       "<matplotlib.image.AxesImage at 0x7fc95ba34278>"
      ]
     },
     "execution_count": 4,
     "metadata": {},
     "output_type": "execute_result"
    },
    {
     "data": {
      "image/png": "[encoded data removed]",
      "text/plain": [
       "<Figure size 432x288 with 1 Axes>"
      ]
     },
     "metadata": {
      "needs_background": "light"
     },
     "output_type": "display_data"
    }
   ],
   "source": [
    "plt.title('Classe: {}'.format(np.argmax(y_train[5])))\n",
    "plt.imshow(x_train[5].reshape(28,28), cmap='gray')"
   ]
  },
  {
   "cell_type": "markdown",
   "metadata": {},
   "source": [
    "# Construção da arquitetura da Rede"
   ]
  },
  {
   "cell_type": "code",
   "execution_count": 5,
   "metadata": {},
   "outputs": [],
   "source": [
    "# Definição do input. O numero de neuronios do input é o tamanho do array\n",
    "NEURONIOS_INPUT = x_train.shape[1]\n",
    "\n",
    "\n",
    "# Definição do numero de hidden Layers. Para esse exemplo, serão utilizados 3 hidden layers\n",
    "# Utilizarei o mesmo nome do layer, pois eles serão entrada um do outro\n",
    "NEURONIOS_HIDDEN = int((x_train.shape[1]+y_train.shape[1])/2)\n",
    "\n",
    "# Definição do numero de neuronios da camada de saída. \n",
    "# Os neuronios dessa camada correspondem as classes possíveis. \n",
    "\n",
    "NEURONIOS_OUTPUT = y_train.shape[1]"
   ]
  },
  {
   "cell_type": "code",
   "execution_count": 6,
   "metadata": {},
   "outputs": [
    {
     "name": "stdout",
     "output_type": "stream",
     "text": [
      "Rede: 784 -> 397 -> 397 -> 397 -> 10\n"
     ]
    }
   ],
   "source": [
    "print(\"Rede: {} -> {} -> {} -> {} -> {}\".format(\n",
    "    NEURONIOS_INPUT,\n",
    "    NEURONIOS_HIDDEN,\n",
    "    NEURONIOS_HIDDEN,\n",
    "    NEURONIOS_HIDDEN,\n",
    "    NEURONIOS_OUTPUT\n",
    "))"
   ]
  },
  {
   "cell_type": "markdown",
   "metadata": {},
   "source": [
    "## Definindo numero de camadas da rede\n",
    "\n",
    "TODO: Tentativa de identificar o numero de camadas da rede para criar um loop que inicializa os pesos e bias da rede"
   ]
  },
  {
   "cell_type": "code",
   "execution_count": 7,
   "metadata": {},
   "outputs": [],
   "source": [
    "NUMERO_HIDDEN_LAYERS = 3\n",
    "\n",
    "# O total de layers dessa rede, nessa arquitetura (DenseNN), é 1 input layer\n",
    "# 1 output layer e N hidden layers. Por isso, tem-se que o numero total de layers é:\n",
    "\n",
    "TOTAL_LAYES = NUMERO_HIDDEN_LAYERS + 2"
   ]
  },
  {
   "cell_type": "markdown",
   "metadata": {},
   "source": [
    "## Criando os pesos e bias da rede"
   ]
  },
  {
   "cell_type": "code",
   "execution_count": 8,
   "metadata": {},
   "outputs": [
    {
     "name": "stdout",
     "output_type": "stream",
     "text": [
      "WARNING:tensorflow:From /home/gustavo/Envs/deep/lib/python3.5/site-packages/tensorflow/python/framework/op_def_library.py:263: colocate_with (from tensorflow.python.framework.ops) is deprecated and will be removed in a future version.\n",
      "Instructions for updating:\n",
      "Colocations handled automatically by placer.\n"
     ]
    }
   ],
   "source": [
    "pesos = {\n",
    "    'oculta1': tf.Variable(tf.random_normal([NEURONIOS_INPUT, NEURONIOS_HIDDEN])),\n",
    "    'oculta2': tf.Variable(tf.random_normal([NEURONIOS_HIDDEN, NEURONIOS_HIDDEN])),\n",
    "    'oculta3':tf.Variable(tf.random_normal([NEURONIOS_HIDDEN, NEURONIOS_HIDDEN])),\n",
    "    'saida':  tf.Variable(tf.random_normal([NEURONIOS_HIDDEN, NEURONIOS_OUTPUT]))\n",
    "}\n",
    "\n",
    "bias = {\n",
    "    'oculta1': tf.Variable(tf.random_normal([NEURONIOS_HIDDEN])),\n",
    "    'oculta2': tf.Variable(tf.random_normal([NEURONIOS_HIDDEN])),\n",
    "    'oculta3':tf.Variable(tf.random_normal([NEURONIOS_HIDDEN])),\n",
    "    'saida':  tf.Variable(tf.random_normal([NEURONIOS_OUTPUT]))\n",
    "}"
   ]
  },
  {
   "cell_type": "markdown",
   "metadata": {},
   "source": [
    "## Definição dos placeholders para a nossa rede"
   ]
  },
  {
   "cell_type": "code",
   "execution_count": 11,
   "metadata": {},
   "outputs": [],
   "source": [
    "xph = tf.placeholder(dtype=tf.float32, shape=[None, NEURONIOS_INPUT])\n",
    "yph = tf.placeholder(dtype=tf.float32, shape=[None, NEURONIOS_OUTPUT])"
   ]
  },
  {
   "cell_type": "markdown",
   "metadata": {},
   "source": [
    "## Definição das funções de ativação\n",
    "\n",
    "Lembre-se que não é realizado essa operação para a `camada de input`. Os valores da camada de input são os próprios inputs!"
   ]
  },
  {
   "cell_type": "code",
   "execution_count": 12,
   "metadata": {},
   "outputs": [],
   "source": [
    "def mlp(inputs, pesos, bias):\n",
    "\n",
    "    valores_camada_oculta = tf.nn.relu(\n",
    "        tf.add(\n",
    "            tf.matmul(inputs, pesos['oculta1']), #camada 1\n",
    "            bias['oculta1'])\n",
    "    )\n",
    "\n",
    "    valores_camada_oculta = tf.nn.relu(\n",
    "        tf.add(\n",
    "            tf.matmul(valores_camada_oculta, pesos['oculta2']), #camada 2\n",
    "            bias['oculta2'])\n",
    "    )\n",
    "    valores_camada_oculta = tf.nn.relu(\n",
    "        tf.add(\n",
    "            tf.matmul(valores_camada_oculta, pesos['oculta3']), #camada 3\n",
    "            bias['oculta3'])\n",
    "    )\n",
    "\n",
    "    valores_camada_saida = tf.add(\n",
    "            tf.matmul(valores_camada_oculta, pesos['saida']),  # saida\n",
    "            bias['saida'])\n",
    "    \n",
    "    \n",
    "    return valores_camada_saida"
   ]
  },
  {
   "cell_type": "code",
   "execution_count": 13,
   "metadata": {},
   "outputs": [],
   "source": [
    "modelo = mlp(xph, pesos, bias)\n",
    "erro = tf.reduce_mean(tf.nn.softmax_cross_entropy_with_logits_v2(logits=modelo, labels=yph))\n",
    "otimizador = tf.train.AdamOptimizer().minimize(erro)"
   ]
  },
  {
   "cell_type": "code",
   "execution_count": 19,
   "metadata": {
    "scrolled": true
   },
   "outputs": [
    {
     "name": "stdout",
     "output_type": "stream",
     "text": [
      "Epoca: 0 - Erro: 36525.2265625\n",
      "Epoca: 100 - Erro: 1395.94140625\n",
      "Epoca: 200 - Erro: 1261.0247802734375\n",
      "Epoca: 300 - Erro: 2029.050537109375\n",
      "Epoca: 400 - Erro: 500.7999267578125\n",
      "Epoca: 500 - Erro: 459.82177734375\n",
      "Epoca: 600 - Erro: 584.15185546875\n",
      "Epoca: 700 - Erro: 797.2660522460938\n",
      "Epoca: 800 - Erro: 706.610107421875\n",
      "Epoca: 900 - Erro: 426.6185302734375\n",
      "Epoca: 1000 - Erro: 341.67596435546875\n",
      "Epoca: 1100 - Erro: 383.9459228515625\n",
      "Epoca: 1200 - Erro: 165.29159545898438\n",
      "Epoca: 1300 - Erro: 299.5755310058594\n",
      "Epoca: 1400 - Erro: 404.15576171875\n",
      "Epoca: 1500 - Erro: 181.1022186279297\n",
      "Epoca: 1600 - Erro: 76.63475799560547\n",
      "Epoca: 1700 - Erro: 320.52069091796875\n",
      "Epoca: 1800 - Erro: 17.510780334472656\n",
      "Epoca: 1900 - Erro: 73.27094268798828\n",
      "Epoca: 2000 - Erro: 116.47837829589844\n",
      "Epoca: 2100 - Erro: 73.89913177490234\n",
      "Epoca: 2200 - Erro: 43.05043029785156\n",
      "Epoca: 2300 - Erro: 80.34510803222656\n",
      "Epoca: 2400 - Erro: 46.72588348388672\n",
      "Epoca: 2500 - Erro: 400.6467590332031\n",
      "Epoca: 2600 - Erro: 69.39911651611328\n",
      "Epoca: 2700 - Erro: 47.06862258911133\n",
      "Epoca: 2800 - Erro: 229.94869995117188\n",
      "Epoca: 2900 - Erro: 14.20804214477539\n",
      "Treinamento terminado. Erro final: 4.6354827880859375\n"
     ]
    }
   ],
   "source": [
    "EPOCAS = 3000\n",
    "\n",
    "with tf.Session() as sess:\n",
    "    sess.run(tf.global_variables_initializer())\n",
    "    \n",
    "    # No treinamento da rede, percorreremos todos os Registros disponíveis\n",
    "    # em cada uma das épocas! Então, se o dado tiver 100k exemplos,\n",
    "    # o codigo abaixo percorrerá 100k exemplos N vezes.\n",
    "    for epoca in range(EPOCAS):\n",
    "        \n",
    "        # Entretando, calculamos o erro da rede a cada 128 registros\n",
    "        x_batch, y_batch = mnist.train.next_batch(128)\n",
    "        _, custo = sess.run([otimizador, erro], feed_dict={xph: x_batch, yph: y_batch})\n",
    "        \n",
    "        if epoca%100 == 0:\n",
    "            print('Epoca: {} - Erro: {}'.format(epoca, custo))\n",
    "    \n",
    "    # Dou um sess.run nos pesos e bias e atribuo o resultado para duas variaveis\n",
    "    # Assim, posso utilizar essas variaveis para fazer minhas predições\n",
    "    w, b = sess.run([pesos, bias]) \n",
    "    print('Treinamento terminado. Erro final: {}'.format(custo))"
   ]
  },
  {
   "cell_type": "markdown",
   "metadata": {},
   "source": [
    "## Visualização dos pesos e bias dessa rede"
   ]
  },
  {
   "cell_type": "code",
   "execution_count": 15,
   "metadata": {
    "scrolled": true
   },
   "outputs": [
    {
     "name": "stdout",
     "output_type": "stream",
     "text": [
      "{'oculta1': array([[-0.5681971 , -0.8197378 , -2.0689633 , ..., -0.66146123,\n",
      "         0.34612176,  1.89279   ],\n",
      "       [-1.0579818 ,  0.4614827 ,  1.2771734 , ...,  0.3362995 ,\n",
      "        -0.670326  , -0.06931505],\n",
      "       [-0.18787563, -0.87291676,  0.02627391, ...,  0.3926793 ,\n",
      "         0.8018715 , -0.997717  ],\n",
      "       ...,\n",
      "       [ 0.83352023, -2.4562733 ,  0.07234281, ..., -1.3775975 ,\n",
      "         0.06581777,  1.156478  ],\n",
      "       [-3.2891397 ,  0.12172139,  0.61093855, ..., -0.68104273,\n",
      "        -0.52783644,  0.38008064],\n",
      "       [ 0.7166024 ,  0.7139824 , -1.294754  , ..., -1.428635  ,\n",
      "         1.6014905 ,  0.32108477]], dtype=float32), 'oculta3': array([[-0.32504675, -0.51335984,  0.5406714 , ..., -1.3352407 ,\n",
      "         1.3423445 ,  0.13566904],\n",
      "       [ 0.6553551 ,  1.4422166 , -1.6856445 , ...,  1.3684098 ,\n",
      "         0.9535958 , -0.79570186],\n",
      "       [-0.32055175, -1.42866   , -0.19261995, ...,  1.3142112 ,\n",
      "        -0.9696982 ,  0.5190364 ],\n",
      "       ...,\n",
      "       [ 0.38523537, -0.06878699,  0.89900595, ..., -2.7935014 ,\n",
      "        -1.6540194 , -1.5806099 ],\n",
      "       [ 0.1983397 , -0.7225498 , -0.6772548 , ..., -1.1540414 ,\n",
      "        -0.88131773,  1.807168  ],\n",
      "       [ 0.62431526, -1.4562621 , -0.32460153, ..., -1.9490701 ,\n",
      "        -0.53831327,  0.00295021]], dtype=float32), 'oculta2': array([[-0.78099567, -0.8551403 , -2.1758249 , ..., -0.12914567,\n",
      "        -0.8517625 ,  1.2075448 ],\n",
      "       [ 0.7808805 , -0.20670204,  0.32628015, ..., -1.1940703 ,\n",
      "         0.35043252, -0.56006634],\n",
      "       [-0.44699684, -1.6437224 , -1.0911527 , ...,  0.37718087,\n",
      "         0.9410709 ,  0.01100173],\n",
      "       ...,\n",
      "       [ 2.0792713 , -1.0051727 ,  0.15957892, ..., -0.9869092 ,\n",
      "        -0.77756757,  0.6936701 ],\n",
      "       [-0.22379185,  0.8362113 ,  0.3321428 , ..., -0.3299103 ,\n",
      "        -0.982293  ,  0.63660914],\n",
      "       [-0.95044464,  0.89904326, -0.8145644 , ...,  1.3305007 ,\n",
      "         1.6640302 ,  0.8423934 ]], dtype=float32), 'saida': array([[ 1.1857976 , -0.10914548, -0.30564487, ...,  2.1374595 ,\n",
      "         0.56611854, -0.9166276 ],\n",
      "       [-0.17672688,  0.95730233,  0.12102866, ..., -1.8023672 ,\n",
      "        -0.02598388, -1.2034414 ],\n",
      "       [ 0.06299353, -0.9134939 , -0.49246722, ...,  0.88337815,\n",
      "         0.78452384,  0.9647259 ],\n",
      "       ...,\n",
      "       [ 1.8477336 , -0.30333236,  0.36679125, ...,  0.22025533,\n",
      "         0.8130825 , -0.4471892 ],\n",
      "       [ 0.8950489 ,  1.4959496 ,  0.7710409 , ...,  1.0444794 ,\n",
      "        -0.04710432,  0.23113379],\n",
      "       [-1.3446915 ,  0.46603328, -1.2362499 , ..., -1.3383602 ,\n",
      "        -1.7507389 ,  0.8010656 ]], dtype=float32)} {'oculta1': array([ 1.31776726e+00,  4.47523147e-01, -4.86948490e-01,  1.28450429e+00,\n",
      "        6.08455777e-01,  3.38564485e-01, -4.33571577e-01,  7.40251362e-01,\n",
      "        6.11119032e-01, -6.76280499e-01, -1.32019803e-01,  2.01907277e+00,\n",
      "        1.61683962e-01,  1.02864318e-01, -4.59804595e-01, -3.06118220e-01,\n",
      "        1.75844088e-01, -1.17236510e-01, -1.24640417e+00, -4.18223321e-01,\n",
      "        7.37689793e-01,  7.70881653e-01,  7.61912227e-01,  1.15945113e+00,\n",
      "        1.05263221e+00, -1.12902009e+00,  1.97982073e-01, -6.04463577e-01,\n",
      "       -1.95072144e-01, -1.43896252e-01, -8.58626366e-01, -6.69349015e-01,\n",
      "        5.46316981e-01, -3.42956297e-02, -3.83414924e-01,  1.04155529e+00,\n",
      "        7.19900787e-01, -1.75336432e+00, -1.47402811e+00, -1.68319538e-01,\n",
      "       -1.88114449e-01,  1.34426177e+00, -1.90296108e-04, -7.00012445e-01,\n",
      "        2.11639094e+00,  7.99257219e-01, -2.67995566e-01,  7.65341878e-01,\n",
      "        1.44937265e+00, -1.38525784e+00, -1.85879186e-01,  5.37486851e-01,\n",
      "        1.16211748e+00, -4.16850507e-01,  1.57429087e+00,  3.07967607e-03,\n",
      "        6.02336943e-01, -7.40056574e-01, -7.12126017e-01, -5.08925557e-01,\n",
      "        1.08689606e+00,  2.81132191e-01,  1.83990073e+00, -3.28846961e-01,\n",
      "        1.24284554e+00, -1.26345143e-01, -9.68732715e-01, -1.40334892e+00,\n",
      "        1.06888342e+00,  3.75159271e-02, -9.84718323e-01, -3.26852828e-01,\n",
      "       -3.32388133e-01,  3.63532484e-01, -1.03490341e+00,  6.20182335e-01,\n",
      "       -5.27421176e-01,  7.54908144e-01,  2.97117859e-01,  2.28373981e+00,\n",
      "       -4.54645544e-01,  1.58011973e-01, -1.41497910e+00, -1.20472334e-01,\n",
      "       -7.90399969e-01, -2.07499161e-01,  1.22946477e+00, -5.64917505e-01,\n",
      "        5.28825521e-01, -3.06062490e-01,  1.52968299e+00, -1.57072276e-01,\n",
      "        4.87744808e-02, -1.60965812e+00, -8.21435452e-01,  1.73801792e+00,\n",
      "       -6.30108237e-01,  1.00080240e+00, -1.19987202e+00,  5.39486766e-01,\n",
      "       -8.07784379e-01,  1.62857711e-01, -5.23810923e-01,  1.50528407e+00,\n",
      "        1.89157307e+00,  1.74900398e-01, -7.90193498e-01,  9.87380326e-01,\n",
      "       -5.64342976e-01, -7.54813433e-01, -1.12004054e+00,  1.22546637e+00,\n",
      "       -2.54635024e+00, -9.39652383e-01,  1.73526749e-01,  2.41734445e-01,\n",
      "        6.95297480e-01,  2.82772988e-01,  6.64470391e-03, -9.81330574e-01,\n",
      "       -1.71458602e+00, -5.13059378e-01, -1.11134052e+00, -1.70582473e+00,\n",
      "        3.73909116e-01, -1.36911988e-01, -1.65167522e+00, -1.34249341e+00,\n",
      "       -3.94473433e-01,  1.77865314e+00, -3.03343058e-01,  8.47382665e-01,\n",
      "       -1.44452059e+00,  1.36337614e+00,  4.75617826e-01,  2.00414991e+00,\n",
      "        1.15379953e+00,  9.81364965e-01,  1.92364171e-01,  3.54133278e-01,\n",
      "        2.47137710e-01,  6.08931303e-01,  1.50181079e+00,  3.86671007e-01,\n",
      "       -1.80164143e-01,  7.29682565e-01, -4.10561353e-01,  9.88288283e-01,\n",
      "        1.84050429e+00,  1.95356083e+00, -4.19010282e-01,  5.45966923e-01,\n",
      "       -2.55375177e-01,  2.40965500e-01, -5.98000824e-01,  3.07100129e+00,\n",
      "       -6.45255387e-01, -6.70028508e-01, -1.09225225e+00,  5.06674409e-01,\n",
      "       -2.35426456e-01,  6.08142197e-01,  1.46319187e+00,  4.73972559e-01,\n",
      "        9.06519294e-02,  7.62419105e-01,  8.98601860e-02,  1.47104338e-01,\n",
      "       -1.82987750e+00, -8.65181148e-01, -5.13841622e-02, -1.25774586e+00,\n",
      "       -1.80126381e+00,  6.18233681e-02,  6.50610864e-01,  9.46855247e-01,\n",
      "        3.48720044e-01,  1.24746943e-02, -2.93009281e-01, -5.74331582e-02,\n",
      "       -5.52686870e-01, -1.91219687e+00, -4.29992020e-01, -5.19775093e-01,\n",
      "       -1.84587109e+00,  1.34725884e-01, -1.66602457e+00, -1.41992822e-01,\n",
      "        1.80061106e-02,  5.27889669e-01,  2.08814383e-01,  2.54925323e+00,\n",
      "        3.94644536e-04,  8.22426796e-01, -3.69866163e-01, -4.35661763e-01,\n",
      "       -2.49699402e+00, -3.14286083e-01, -7.68351376e-01, -9.03271735e-01,\n",
      "        8.64788055e-01, -1.22004426e+00, -1.23408008e+00, -1.44649816e+00,\n",
      "       -9.56344903e-02, -1.53432381e+00,  9.67723250e-01,  9.06972766e-01,\n",
      "        1.44785082e+00,  1.97091565e-01, -8.87571931e-01,  6.39431700e-02,\n",
      "        3.50093961e-01, -3.36918324e-01, -1.12247682e+00,  1.73476827e+00,\n",
      "       -1.02890646e+00,  1.25762868e+00, -2.06439853e-01, -2.31534982e+00,\n",
      "        4.61564362e-02, -1.20488107e+00,  4.52329338e-01, -7.42435455e-01,\n",
      "        6.56260490e-01, -2.15688825e-01, -1.00639045e-01,  2.19961905e+00,\n",
      "        1.11748111e+00, -1.22085369e+00, -1.44339859e+00, -3.26778561e-01,\n",
      "       -2.58061528e-01,  1.82021236e+00,  3.40889454e-01,  5.98505199e-01,\n",
      "        1.54757655e+00, -1.77793741e+00, -8.57054353e-01, -1.21853280e+00,\n",
      "       -3.01607668e-01,  1.97362006e-01,  4.36493039e-01,  2.95851022e-01,\n",
      "        1.53913617e-01, -4.82804120e-01,  7.32611865e-02, -1.96353495e-01,\n",
      "       -7.53199339e-01,  1.05593944e+00, -7.96957135e-01,  1.02919340e+00,\n",
      "       -6.30163550e-01,  1.83725893e+00, -1.15924728e+00, -1.26995608e-01,\n",
      "       -1.04644454e+00,  1.34804046e+00, -1.49889410e-01,  1.53449178e+00,\n",
      "       -1.15534222e+00,  2.54324257e-01,  9.98283684e-01,  2.77249128e-01,\n",
      "       -7.69273996e-01, -1.24146461e+00,  9.53027844e-01,  1.51139855e+00,\n",
      "        3.72292072e-01,  2.76080072e-01,  8.32339942e-01,  2.61886537e-01,\n",
      "       -2.55570561e-01, -1.73110402e+00,  7.31920777e-03, -4.52098131e-01,\n",
      "        1.76291800e+00,  5.77177465e-01,  1.32760668e+00,  1.08659983e+00,\n",
      "       -1.41014725e-01, -1.01747322e+00,  4.63023782e-01,  1.46147847e+00,\n",
      "        1.94131751e-02,  8.99240732e-01,  3.68252695e-01, -7.25849092e-01,\n",
      "        8.96438003e-01,  9.52260971e-01,  8.90299901e-02,  1.07500565e+00,\n",
      "       -7.56218970e-01, -2.01015306e+00, -1.78034222e+00, -1.46431625e+00,\n",
      "       -1.14770398e-01,  2.64932007e-01, -1.41198650e-01,  1.32286400e-01,\n",
      "        3.28340262e-01, -3.84179890e-01, -5.33225000e-01,  8.78563702e-01,\n",
      "       -9.51267004e-01, -3.44513118e-01,  2.31014729e+00,  5.48645735e-01,\n",
      "        3.64704847e-01,  3.23251992e-01,  8.38591576e-01, -1.29514396e-01,\n",
      "        1.61294925e+00, -6.30196333e-01, -1.65152943e+00,  1.33853510e-01,\n",
      "       -1.16334689e+00, -5.25030136e-01,  9.98521805e-01,  3.57120484e-02,\n",
      "       -7.10166037e-01,  1.49490023e+00,  5.87997079e-01,  6.92978084e-01,\n",
      "       -9.70638514e-01, -1.95107889e+00, -1.35728931e+00,  4.65214223e-01,\n",
      "        1.15020251e+00, -5.06688178e-01,  1.19789028e+00, -2.06140041e+00,\n",
      "        2.04270911e+00,  1.02453256e+00,  5.26566923e-01,  2.04184651e+00,\n",
      "        1.15219724e+00, -8.87230694e-01,  1.49847829e+00,  7.86315799e-01,\n",
      "        2.69303117e-02,  9.67725396e-01,  1.49147123e-01,  1.21540260e-02,\n",
      "        2.86117882e-01, -8.75221252e-01,  1.30684197e+00, -1.37541711e-01,\n",
      "       -3.68267536e-01,  1.41100788e+00, -5.97283423e-01, -3.50887984e-01,\n",
      "        5.60401864e-02, -2.03027740e-01,  1.86800110e+00, -4.32985008e-01,\n",
      "        3.95374179e-01, -3.35969687e-01, -5.86791635e-01, -1.98328841e+00,\n",
      "       -1.43841803e+00,  2.91733831e-01,  1.26922774e+00,  2.62673616e-01,\n",
      "        9.39409733e-01, -6.98968828e-01, -7.69279106e-03, -5.19618213e-01,\n",
      "       -2.01629257e+00, -1.11867750e+00,  4.54679094e-02, -2.73739070e-01,\n",
      "        1.56427372e+00,  1.23575079e+00, -2.96587181e+00,  3.06432754e-01,\n",
      "        1.57454595e-01, -2.21211478e-01, -2.84049416e+00, -5.01719415e-01,\n",
      "        4.49321836e-01,  9.92892563e-01,  1.11247376e-02,  2.64978409e-01,\n",
      "        4.39746857e-01,  5.94270885e-01, -1.21424925e+00,  7.50805974e-01,\n",
      "       -1.47171617e+00, -1.00755729e-01, -1.58353698e+00,  6.70571625e-01,\n",
      "       -7.51157105e-01, -9.97863114e-01, -1.47846490e-01, -4.85375188e-02,\n",
      "       -3.84151161e-01], dtype=float32), 'oculta3': array([ 1.1473188 ,  0.29781187, -0.01802327,  2.137236  ,  0.5520634 ,\n",
      "        2.1190798 , -1.1053393 , -0.4908322 ,  1.9473419 , -1.2973487 ,\n",
      "        0.9547692 ,  0.7611878 , -1.6059945 ,  0.61048377, -0.09288552,\n",
      "        1.4869926 , -0.92155075,  0.854622  ,  0.58117586,  0.95878905,\n",
      "       -0.66560817,  0.9508308 ,  0.798591  , -0.03346073, -0.17446223,\n",
      "       -1.236201  ,  1.7889901 , -0.4368702 , -1.9660832 , -0.20913044,\n",
      "        0.18600528, -1.5785075 ,  0.43638498, -1.0153296 , -2.1616404 ,\n",
      "       -0.17271182,  1.2920091 , -1.8334037 , -0.8262534 , -1.1172591 ,\n",
      "       -0.01689937,  0.4679166 , -0.31946656,  1.2646163 ,  0.40750155,\n",
      "        0.83725375,  0.4603337 ,  0.8539012 , -1.2353712 , -0.67172056,\n",
      "        0.09521121, -0.3643496 ,  2.7618709 ,  1.327954  ,  0.23631108,\n",
      "       -2.2038522 ,  3.0192204 ,  0.10985629,  0.50283164, -0.7903649 ,\n",
      "        1.3891913 , -0.8733341 ,  0.32865876, -0.17172576,  0.865962  ,\n",
      "       -0.30091843, -0.37021843, -1.305745  ,  0.40549624,  0.56389433,\n",
      "       -0.5512759 , -1.6993713 ,  0.68090993, -0.34586537,  0.80906594,\n",
      "       -0.03626213, -0.19829914, -0.9274361 ,  0.72339517, -0.69129956,\n",
      "       -1.8625319 ,  2.4950118 ,  0.5506397 ,  0.552161  ,  0.2483281 ,\n",
      "        1.0489777 , -0.5206835 , -0.8890004 , -1.4386673 , -0.38966313,\n",
      "       -0.6299836 , -0.19415863, -1.0749189 , -1.0089141 ,  0.2836941 ,\n",
      "       -0.8304729 ,  0.23580195,  0.68633574, -1.0680423 ,  0.58007634,\n",
      "        1.76784   ,  0.35060495, -1.0021144 ,  0.51789266, -0.55292195,\n",
      "       -1.634145  , -1.2762526 , -0.31281745,  1.0132263 , -0.67141074,\n",
      "        0.71995854, -0.14357807,  0.20763028, -0.18184328,  0.160678  ,\n",
      "        1.1604888 , -0.39941385,  0.16138284, -1.9466685 , -0.00779103,\n",
      "        0.21193565,  1.2834387 ,  0.6972201 ,  0.93762827, -1.487588  ,\n",
      "       -0.15152891,  1.0003114 ,  0.7599257 , -0.7398573 , -0.4873521 ,\n",
      "        1.8028322 ,  0.62774   , -0.8695794 ,  0.18591537,  0.41413543,\n",
      "       -0.00687421, -0.6657477 , -1.3492417 ,  0.952912  , -0.941944  ,\n",
      "        0.9979894 ,  0.9176401 ,  0.50530505, -1.0245124 ,  0.92176276,\n",
      "        1.9518005 , -0.25972593,  0.26233488,  2.8242927 ,  0.16077118,\n",
      "       -1.4433825 ,  0.9488789 , -0.3376289 , -0.5852382 , -0.29555959,\n",
      "       -0.5808841 , -1.9759288 , -0.420618  ,  0.18621737, -1.1138982 ,\n",
      "       -0.4373754 ,  0.09956718, -0.5862675 , -1.1550367 ,  0.772867  ,\n",
      "        1.0756257 ,  1.2532874 ,  0.26829252, -0.26312286, -0.29959187,\n",
      "       -0.20535856, -0.929234  ,  0.17750281,  1.0363239 ,  0.29572764,\n",
      "       -0.12427836,  0.02894885, -0.9335796 , -0.7656692 , -1.829857  ,\n",
      "       -0.888737  , -0.7529816 ,  0.6338638 , -0.57841605,  0.904637  ,\n",
      "       -0.23331237,  0.07920444, -0.34884572, -0.49139643,  0.3935559 ,\n",
      "       -1.1200589 ,  1.9704797 , -1.0401531 ,  0.8645546 , -0.9119814 ,\n",
      "        0.18710878,  0.82129353,  0.2632332 ,  1.290194  , -0.37142453,\n",
      "        1.1722072 , -1.0511533 ,  1.5565538 , -0.43623254,  1.5565228 ,\n",
      "        1.250259  , -0.10108362, -1.0458206 , -1.1185001 ,  2.6937377 ,\n",
      "       -0.58145785,  0.7049094 ,  1.1044468 ,  0.34900397,  1.0043032 ,\n",
      "        0.07455351, -2.3164299 ,  0.13702978,  2.1995804 ,  0.46539083,\n",
      "       -0.6788278 , -0.6460717 ,  0.14470357, -0.41105163, -0.77594906,\n",
      "       -0.37385094, -1.5815947 , -0.38369152,  0.63557595,  0.35826984,\n",
      "       -0.9115537 ,  0.11826481,  0.23377031,  0.53290814, -0.07045301,\n",
      "        0.31197694,  0.8678194 ,  0.30385292, -0.6394449 ,  0.947292  ,\n",
      "        0.64061743, -0.8950665 , -0.7224171 , -0.16720241, -2.0988584 ,\n",
      "       -0.74325925,  0.5409279 ,  0.9773718 , -0.00367583, -0.79767436,\n",
      "        0.607274  ,  0.06414683, -0.535869  , -0.35971686,  0.42865056,\n",
      "        0.4987499 , -1.866647  ,  0.5181258 , -0.6744143 , -1.2868757 ,\n",
      "       -0.09261659, -0.7556697 ,  0.5104424 , -0.21142586,  0.43824574,\n",
      "       -0.53789353, -1.012675  , -0.7426599 , -0.49076387,  0.27323288,\n",
      "       -0.82280403, -1.0237216 ,  0.686282  ,  0.7159557 , -0.73129195,\n",
      "       -0.6985464 ,  0.10533973, -0.54555815, -0.8140981 ,  0.956091  ,\n",
      "       -1.6214556 , -0.6255407 ,  1.1893963 ,  0.97626466,  1.4809896 ,\n",
      "        1.7230119 ,  1.1992475 ,  0.8117233 ,  1.382903  , -0.19152056,\n",
      "       -0.41187748, -0.6894385 ,  0.9082207 ,  0.61195165, -0.31880656,\n",
      "        0.33534452, -0.2671996 ,  1.0039644 ,  1.4879421 , -1.3418345 ,\n",
      "       -0.14273852,  0.09366121, -1.3650104 ,  0.22305854,  1.1647708 ,\n",
      "        1.2698438 , -0.11525489, -0.5766497 ,  1.4656254 , -0.11041441,\n",
      "       -1.5953621 ,  0.19637276,  0.6125296 ,  1.8316815 , -0.43836287,\n",
      "        0.8009493 , -0.7875481 , -2.7854211 ,  0.33852068, -0.7519333 ,\n",
      "       -0.31447265, -0.3436839 , -0.84657   , -1.3044714 ,  1.095168  ,\n",
      "        0.53265065, -1.2998611 , -0.22648345,  0.35803416,  0.02478343,\n",
      "        0.6324498 ,  0.34163144,  0.47251475, -0.6049519 , -0.32901183,\n",
      "        0.16042641, -0.75658804, -2.3241687 , -0.7145218 , -0.68125856,\n",
      "       -2.1245403 , -1.4921046 ,  0.81868476,  1.3196974 ,  1.2610565 ,\n",
      "       -0.59540147,  1.223616  , -0.89114374, -1.471466  , -1.4461275 ,\n",
      "        0.9095407 ,  0.71042705, -0.95251554,  0.79604274,  0.86784226,\n",
      "       -0.49545372,  0.34867504,  0.7063325 ,  0.00355256, -0.02228254,\n",
      "       -1.7232337 ,  0.9422996 , -0.02115802,  0.01578509, -0.11931882,\n",
      "        1.2861024 , -2.063497  ,  0.15575397,  1.5533669 ,  2.151574  ,\n",
      "        0.2465428 , -0.5881107 ,  0.42824018,  1.4522161 , -0.41842705,\n",
      "        0.06899988,  0.35196948,  0.18737882, -0.04857071, -0.32640198,\n",
      "       -0.45440108, -0.17306727,  1.2543173 ,  1.066665  , -1.0840724 ,\n",
      "        0.62198615,  0.2741782 ,  1.8545953 ,  0.15906647,  0.9848297 ,\n",
      "       -0.7709511 ,  0.39520818, -1.0217261 , -0.56861067, -0.08825184,\n",
      "       -0.04869987, -0.28072128], dtype=float32), 'oculta2': array([ 1.5990225 , -0.32312223, -0.76128846, -0.32479405,  0.05499025,\n",
      "       -0.8749311 ,  1.5238054 ,  1.7900088 , -0.09513103,  2.0798326 ,\n",
      "       -1.8688711 , -1.0963378 , -0.22932944,  0.6626982 , -0.9647277 ,\n",
      "        0.85864085,  1.1445869 , -0.48713213, -0.2239127 , -0.5098359 ,\n",
      "        0.2614488 ,  0.5740209 , -0.47060406,  0.6482486 , -0.34160072,\n",
      "        0.7365581 ,  0.03057592,  1.750304  ,  0.45972487,  0.01920864,\n",
      "        0.80083454,  0.7348696 ,  0.4933872 , -0.66896856, -0.42662945,\n",
      "       -0.8862666 ,  0.8019094 ,  1.3758193 , -0.6304631 , -0.90664667,\n",
      "       -1.2175119 ,  0.32180652, -1.8043418 ,  0.5570869 ,  0.21981552,\n",
      "       -1.680371  ,  0.83877456, -0.51741207, -0.51279485, -0.7781652 ,\n",
      "        0.59358937, -0.56846166,  0.27043188, -1.0129367 , -0.27995315,\n",
      "        0.5330956 , -0.06222582, -0.57249427, -0.5180889 ,  0.95737827,\n",
      "       -0.1380369 , -1.5157173 ,  0.7903128 , -1.3559359 ,  0.64096534,\n",
      "        0.42153808,  0.20564502, -0.84814775, -0.7721162 , -1.6866281 ,\n",
      "        0.0741487 , -0.16132061, -1.8616782 ,  1.3272775 ,  1.5272658 ,\n",
      "        1.8479687 ,  0.7674491 ,  2.100853  , -1.0849593 ,  0.23726809,\n",
      "        0.17312244, -0.25528783, -0.4728146 , -0.29949602,  0.5739113 ,\n",
      "       -0.9782626 ,  0.300114  ,  0.82529813, -0.5137887 , -1.3969319 ,\n",
      "       -0.9858347 ,  0.22808884, -1.1840408 , -1.079237  ,  0.7423848 ,\n",
      "        0.2792339 ,  1.141697  , -0.13861614,  1.2842289 , -0.11242375,\n",
      "       -0.19063787, -1.7139766 ,  3.6481566 , -0.6346858 , -0.2972519 ,\n",
      "        1.1849135 ,  0.29221144,  0.05367064, -0.36589843, -0.0629631 ,\n",
      "       -1.206001  , -0.19861983,  0.0673999 , -1.0301838 , -1.4841683 ,\n",
      "       -0.7430232 , -0.29602012,  0.3223219 ,  0.24077956,  0.54695076,\n",
      "        1.0557301 ,  1.7143645 ,  0.14278951,  2.5627372 , -0.9947911 ,\n",
      "        1.148398  , -0.3473606 ,  0.5140588 , -0.37052986, -1.4120855 ,\n",
      "       -0.42745537,  1.5996499 , -0.86312425, -1.2548594 , -0.34435192,\n",
      "        0.41140795, -0.83068275,  0.73885965, -2.0087202 , -0.26850432,\n",
      "       -1.0194433 , -1.112321  ,  1.4667456 ,  1.0839547 ,  0.73657477,\n",
      "        1.0670707 , -0.14141896,  0.43751803,  1.9663837 , -1.4799265 ,\n",
      "        1.2184377 , -1.5472453 ,  0.38951996,  0.98161554,  1.0654072 ,\n",
      "        0.71758574, -0.6543933 , -0.49525937, -1.6194922 , -0.35139593,\n",
      "        0.6167424 , -0.6189438 ,  2.0900242 ,  1.6724553 , -0.4362242 ,\n",
      "       -1.179723  , -0.82605916,  0.19021559, -0.6610439 ,  0.67636013,\n",
      "        0.89480793,  1.0814248 ,  0.63206244, -0.21012819,  1.6089371 ,\n",
      "       -0.11591573,  0.13319558,  0.59903425, -0.47813752, -0.6692529 ,\n",
      "        1.1834911 ,  0.6718344 ,  0.77274495, -1.0399526 , -1.3561007 ,\n",
      "       -0.3528325 ,  0.14738204,  1.3025827 ,  1.1861471 , -0.84847796,\n",
      "       -1.0669129 , -1.0801364 , -0.96247596,  1.2369689 , -0.25590107,\n",
      "        0.72171813,  1.2962519 ,  0.42022952,  0.89788616, -0.5237193 ,\n",
      "       -1.177966  ,  0.24696517,  1.6624944 , -0.42098057, -1.3478122 ,\n",
      "       -0.0731165 , -2.0965755 ,  0.07716533, -0.07474659, -1.5805442 ,\n",
      "        0.25372234,  1.0886818 , -0.3122492 ,  0.9759752 , -1.1377856 ,\n",
      "        0.7110714 ,  1.5883135 , -0.29144967,  1.2996595 , -0.5179466 ,\n",
      "        0.28250474, -1.3508998 ,  0.29771757, -1.1237823 ,  1.0423542 ,\n",
      "       -1.1460389 ,  1.2462952 ,  1.0039946 ,  1.6628217 , -1.1418797 ,\n",
      "       -1.5149026 , -1.9922663 ,  0.6011644 , -0.41564074,  0.14555447,\n",
      "        1.0765144 , -0.8371522 ,  0.8488687 ,  0.8113983 , -0.3717136 ,\n",
      "        2.6402225 ,  1.8988184 ,  2.141681  , -0.9991887 , -0.4916759 ,\n",
      "       -0.93546987,  0.58715147, -0.76011795,  1.1064973 ,  0.7106421 ,\n",
      "       -1.9274845 , -1.1922828 ,  1.3233446 , -1.4026204 ,  0.14025985,\n",
      "       -0.12110323,  0.31877586,  2.105538  ,  0.03044183, -0.9443557 ,\n",
      "       -1.0660677 , -0.52469796,  0.32336226, -0.94422626, -0.08794685,\n",
      "        0.81110114, -1.5155876 ,  0.3869246 , -1.127812  ,  0.6799773 ,\n",
      "        0.7748465 , -0.13464822, -1.473947  , -0.7857643 , -0.55964786,\n",
      "        1.1623483 ,  1.5552652 ,  0.74386925,  1.285557  ,  0.9683811 ,\n",
      "        0.5667877 , -0.21757169, -0.9017676 , -0.5433772 , -0.7221435 ,\n",
      "       -1.1995054 , -1.0715051 , -0.6041589 , -0.8992663 ,  0.13055353,\n",
      "       -0.8819175 ,  1.2860442 ,  1.6135472 , -0.74989665,  1.3205637 ,\n",
      "        0.19869451,  1.1083943 , -0.7161029 ,  1.5738664 ,  0.7934636 ,\n",
      "       -0.23899129,  0.5772497 ,  1.5606829 ,  1.4482088 , -0.75875133,\n",
      "       -0.8694817 , -1.4979883 , -1.0117818 , -0.3239648 , -0.20131877,\n",
      "       -1.6062968 ,  0.19839685,  0.89722145, -0.43688434, -0.04558793,\n",
      "       -0.9037929 ,  0.3948816 ,  1.3193581 ,  0.34170145, -0.8475177 ,\n",
      "        0.4251323 , -0.36332527, -1.6056544 , -0.21887846, -1.3918725 ,\n",
      "        1.8829794 , -0.27797902, -0.3807087 , -0.11527935,  1.176304  ,\n",
      "        0.6683975 ,  0.83675385,  0.8140872 ,  0.45227128,  0.59155685,\n",
      "       -0.18314342, -0.38429242,  1.2334987 , -1.728122  ,  0.66847706,\n",
      "       -1.5457442 ,  0.30211025,  0.3303697 , -0.17952706,  0.3673118 ,\n",
      "       -0.4246804 , -0.36373457,  0.2693779 ,  0.94111305,  0.41948718,\n",
      "       -2.3793988 , -0.40921122, -2.188322  , -0.28837657,  0.08964269,\n",
      "        0.12125899, -0.07709087, -0.13404356,  1.638101  , -1.0429887 ,\n",
      "       -0.40756762,  0.9999421 , -0.7742117 ,  2.0280883 , -0.76667   ,\n",
      "       -1.7469676 ,  1.1106666 ,  1.2185994 ,  1.0584749 ,  1.1970203 ,\n",
      "       -0.49511638,  0.36607772,  0.39666805, -1.7612505 ,  0.17234585,\n",
      "        0.6426335 , -0.03926875,  0.2851194 ,  0.57951736, -0.46418524,\n",
      "       -1.7033497 , -0.9131234 ,  0.44816163,  0.96115917, -0.55144626,\n",
      "        0.18301013, -1.335267  ,  1.2893002 , -1.0915306 ,  0.78245014,\n",
      "       -4.4512873 ,  0.3590194 ,  0.78451896, -0.40816563, -0.34550488,\n",
      "        1.1312945 , -0.52231085], dtype=float32), 'saida': array([ 0.76670426,  1.1943305 ,  0.525691  ,  0.21595135,  0.82646877,\n",
      "       -0.6424691 ,  0.92981803,  0.552054  , -0.15508011, -0.20246051],\n",
      "      dtype=float32)}\n"
     ]
    }
   ],
   "source": [
    "print(w, b)"
   ]
  },
  {
   "cell_type": "code",
   "execution_count": 16,
   "metadata": {
    "scrolled": true
   },
   "outputs": [],
   "source": [
    "with tf.Session() as sess:\n",
    "    sess.run(tf.global_variables_initializer())\n",
    "    previsoes =  tf.nn.softmax(mlp(xph, w, b))\n",
    "    previsao = sess.run(previsoes, feed_dict={xph: x_test})\n",
    "    previsao = tf.argmax(previsao, axis=1)\n",
    "    previsao = sess.run(previsao)"
   ]
  },
  {
   "cell_type": "code",
   "execution_count": 22,
   "metadata": {},
   "outputs": [
    {
     "name": "stdout",
     "output_type": "stream",
     "text": [
      "              precision    recall  f1-score   support\n",
      "\n",
      "           0       0.98      0.96      0.97       995\n",
      "           1       0.98      0.98      0.98      1135\n",
      "           2       0.94      0.96      0.95      1009\n",
      "           3       0.93      0.94      0.93       999\n",
      "           4       0.97      0.94      0.95      1012\n",
      "           5       0.96      0.92      0.94       923\n",
      "           6       0.94      0.98      0.96       920\n",
      "           7       0.95      0.95      0.95      1023\n",
      "           8       0.93      0.90      0.92      1005\n",
      "           9       0.92      0.95      0.94       979\n",
      "\n",
      "   micro avg       0.95      0.95      0.95     10000\n",
      "   macro avg       0.95      0.95      0.95     10000\n",
      "weighted avg       0.95      0.95      0.95     10000\n",
      "\n"
     ]
    }
   ],
   "source": [
    "from sklearn.metrics import classification_report\n",
    "\n",
    "print(classification_report(previsao, np.argmax(y_test,1)))"
   ]
  }
 ],
 "metadata": {
  "kernelspec": {
   "display_name": "Python 3",
   "language": "python",
   "name": "python3"
  },
  "language_info": {
   "codemirror_mode": {
    "name": "ipython",
    "version": 3
   },
   "file_extension": ".py",
   "mimetype": "text/x-python",
   "name": "python",
   "nbconvert_exporter": "python",
   "pygments_lexer": "ipython3",
   "version": "3.5.3"
  }
 },
 "nbformat": 4,
 "nbformat_minor": 2
}
