{
 "cells": [
  {
   "cell_type": "code",
   "execution_count": 1,
   "metadata": {},
   "outputs": [],
   "source": [
    "import tensorflow as tf\n",
    "import numpy as np\n",
    "import pandas as pd"
   ]
  },
  {
   "cell_type": "code",
   "execution_count": 2,
   "metadata": {},
   "outputs": [
    {
     "data": {
      "text/plain": [
       "'1.12.0'"
      ]
     },
     "execution_count": 2,
     "metadata": {},
     "output_type": "execute_result"
    }
   ],
   "source": [
    "tf.__version__"
   ]
  },
  {
   "cell_type": "markdown",
   "metadata": {},
   "source": [
    "# Perceptron de uma camada\n",
    "\n",
    "Implementação para uma rede que resolve problemas linearmente separáveis\n",
    "\n",
    "Variaveis de entrada"
   ]
  },
  {
   "cell_type": "code",
   "execution_count": 3,
   "metadata": {},
   "outputs": [],
   "source": [
    "X = np.array([\n",
    "    [0,0],\n",
    "    [0,1],\n",
    "    [1,0],\n",
    "    [1,1]\n",
    "], dtype=np.float32)\n",
    "\n",
    "y = np.array([\n",
    "    [0],\n",
    "    [0],\n",
    "    [0],\n",
    "    [1]\n",
    "], dtype=np.float32)"
   ]
  },
  {
   "cell_type": "code",
   "execution_count": 44,
   "metadata": {},
   "outputs": [],
   "source": [
    "def step(x):\n",
    "    return tf.cast(tf.to_float(tf.greater_equal(x,1)), dtype=tf.float32)"
   ]
  },
  {
   "cell_type": "code",
   "execution_count": 47,
   "metadata": {
    "scrolled": true
   },
   "outputs": [],
   "source": [
    "weights = tf.Variable(tf.zeros([2,1], dtype=tf.float32))\n",
    "output = tf.matmul(X, weights)\n",
    "output = step(output)\n",
    "\n",
    "#Calculo de erro\n",
    "erro_calc = tf.subtract(y, output)\n",
    "\n",
    "#recalculando os pesos\n",
    "\n",
    "delta = tf.matmul(X, erro_calc, transpose_a=True)\n",
    "treino = tf.assign(weights, tf.add(weights, tf.multiply(delta, 0.1)))"
   ]
  },
  {
   "cell_type": "code",
   "execution_count": 48,
   "metadata": {
    "scrolled": true
   },
   "outputs": [
    {
     "name": "stdout",
     "output_type": "stream",
     "text": [
      "Epoca:  0 Erro:  1.0\n",
      "Epoca:  1 Erro:  1.0\n",
      "Epoca:  2 Erro:  1.0\n",
      "Epoca:  3 Erro:  1.0\n",
      "Epoca:  4 Erro:  1.0\n",
      "Epoca:  5 Erro:  0.0\n"
     ]
    }
   ],
   "source": [
    "init = tf.global_variables_initializer()\n",
    "epocas = 30\n",
    "with tf.Session() as sess:\n",
    "    sess.run(init)\n",
    "    \n",
    "    for i in range(epocas):\n",
    "        erro_total, _= sess.run((erro_calc, treino))\n",
    "        erro_soma = tf.reduce_sum(erro_total)\n",
    "        print(\"Epoca: \", i, \"Erro: \", sess.run(erro_soma))\n",
    "        if erro_soma.eval() == 0.0:\n",
    "            break\n",
    "    w_final = sess.run(weights)"
   ]
  },
  {
   "cell_type": "code",
   "execution_count": 49,
   "metadata": {},
   "outputs": [
    {
     "data": {
      "text/plain": [
       "array([[0.5],\n",
       "       [0.5]], dtype=float32)"
      ]
     },
     "execution_count": 49,
     "metadata": {},
     "output_type": "execute_result"
    }
   ],
   "source": [
    "w_final"
   ]
  },
  {
   "cell_type": "code",
   "execution_count": 50,
   "metadata": {},
   "outputs": [
    {
     "name": "stdout",
     "output_type": "stream",
     "text": [
      "[[0.]\n",
      " [0.]\n",
      " [0.]\n",
      " [1.]]\n"
     ]
    }
   ],
   "source": [
    "# \"predição\"\n",
    "predict = tf.matmul(X, w_final)\n",
    "predict = step(predict)\n",
    "with tf.Session() as sess:\n",
    "    sess.run(init)\n",
    "    print(sess.run(predict))"
   ]
  }
 ],
 "metadata": {
  "kernelspec": {
   "display_name": "Python 3",
   "language": "python",
   "name": "python3"
  },
  "language_info": {
   "codemirror_mode": {
    "name": "ipython",
    "version": 3
   },
   "file_extension": ".py",
   "mimetype": "text/x-python",
   "name": "python",
   "nbconvert_exporter": "python",
   "pygments_lexer": "ipython3",
   "version": "3.5.3"
  }
 },
 "nbformat": 4,
 "nbformat_minor": 2
}
