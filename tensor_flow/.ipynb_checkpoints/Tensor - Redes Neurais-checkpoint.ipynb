{
 "cells": [
  {
   "cell_type": "code",
   "execution_count": 1,
   "metadata": {},
   "outputs": [],
   "source": [
    "import tensorflow as tf\n",
    "import numpy as np\n",
    "import pandas as pd"
   ]
  },
  {
   "cell_type": "code",
   "execution_count": 2,
   "metadata": {},
   "outputs": [
    {
     "data": {
      "text/plain": [
       "'1.12.0'"
      ]
     },
     "execution_count": 2,
     "metadata": {},
     "output_type": "execute_result"
    }
   ],
   "source": [
    "tf.__version__"
   ]
  },
  {
   "cell_type": "markdown",
   "metadata": {},
   "source": [
    "# Perceptron de uma camada\n",
    "\n",
    "Implementação para uma rede que resolve problemas linearmente separáveis\n",
    "\n",
    "Variaveis de entrada"
   ]
  },
  {
   "cell_type": "code",
   "execution_count": 3,
   "metadata": {},
   "outputs": [],
   "source": [
    "X = np.array([\n",
    "    [0,0],\n",
    "    [0,1],\n",
    "    [1,0],\n",
    "    [1,1]\n",
    "], dtype=np.float32)\n",
    "\n",
    "y = np.array([\n",
    "    [0],\n",
    "    [0],\n",
    "    [0],\n",
    "    [1]\n",
    "], dtype=np.float32)"
   ]
  },
  {
   "cell_type": "code",
   "execution_count": 4,
   "metadata": {},
   "outputs": [
    {
     "data": {
      "text/plain": [
       "array([[0., 0., 1., 1.],\n",
       "       [0., 1., 0., 1.]], dtype=float32)"
      ]
     },
     "execution_count": 4,
     "metadata": {},
     "output_type": "execute_result"
    }
   ],
   "source": [
    "np.transpose(X)\n",
    "# X"
   ]
  },
  {
   "cell_type": "code",
   "execution_count": 22,
   "metadata": {
    "scrolled": true
   },
   "outputs": [],
   "source": [
    "weights = tf.Variable(tf.zeros([2,1], dtype=tf.float32))\n",
    "output = tf.matmul(X, weights)\n",
    "output = tf.nn.relu(output)\n",
    "\n",
    "#Calculo de erro\n",
    "# erro_calc = tf.losses.mean_squared_error(y,output)\n",
    "erro_calc = tf.subtract(y, output)\n",
    "\n",
    "#recalculando os pesos\n",
    "\n",
    "# delta = tf.matmul(X, erro_calc, transpose_a=True)\n",
    "# treino = tf.assign(weights, tf.add(weights, tf.multiply(delta, 0.1)))"
   ]
  },
  {
   "cell_type": "code",
   "execution_count": 23,
   "metadata": {
    "scrolled": true
   },
   "outputs": [
    {
     "name": "stdout",
     "output_type": "stream",
     "text": [
      "[[0.1]\n",
      " [0.1]]\n",
      "Epoca:  0 Erro:  1.0\n",
      "Epoca:  1 Erro:  1.0\n",
      "Epoca:  2 Erro:  1.0\n",
      "Epoca:  3 Erro:  1.0\n",
      "Epoca:  4 Erro:  1.0\n",
      "Epoca:  5 Erro:  1.0\n",
      "Epoca:  6 Erro:  1.0\n",
      "Epoca:  7 Erro:  1.0\n",
      "Epoca:  8 Erro:  1.0\n",
      "Epoca:  9 Erro:  1.0\n",
      "Epoca:  10 Erro:  1.0\n",
      "Epoca:  11 Erro:  1.0\n",
      "Epoca:  12 Erro:  1.0\n",
      "Epoca:  13 Erro:  1.0\n",
      "Epoca:  14 Erro:  1.0\n",
      "Epoca:  15 Erro:  1.0\n",
      "Epoca:  16 Erro:  1.0\n",
      "Epoca:  17 Erro:  1.0\n",
      "Epoca:  18 Erro:  1.0\n",
      "Epoca:  19 Erro:  1.0\n",
      "Epoca:  20 Erro:  1.0\n",
      "Epoca:  21 Erro:  1.0\n",
      "Epoca:  22 Erro:  1.0\n",
      "Epoca:  23 Erro:  1.0\n",
      "Epoca:  24 Erro:  1.0\n",
      "Epoca:  25 Erro:  1.0\n",
      "Epoca:  26 Erro:  1.0\n",
      "Epoca:  27 Erro:  1.0\n",
      "Epoca:  28 Erro:  1.0\n",
      "Epoca:  29 Erro:  1.0\n",
      "Epoca:  30 Erro:  1.0\n",
      "Epoca:  31 Erro:  1.0\n",
      "Epoca:  32 Erro:  1.0\n",
      "Epoca:  33 Erro:  1.0\n",
      "Epoca:  34 Erro:  1.0\n",
      "Epoca:  35 Erro:  1.0\n",
      "Epoca:  36 Erro:  1.0\n",
      "Epoca:  37 Erro:  1.0\n",
      "Epoca:  38 Erro:  1.0\n",
      "Epoca:  39 Erro:  1.0\n",
      "Epoca:  40 Erro:  1.0\n",
      "Epoca:  41 Erro:  1.0\n",
      "Epoca:  42 Erro:  1.0\n",
      "Epoca:  43 Erro:  1.0\n",
      "Epoca:  44 Erro:  1.0\n",
      "Epoca:  45 Erro:  1.0\n",
      "Epoca:  46 Erro:  1.0\n",
      "Epoca:  47 Erro:  1.0\n",
      "Epoca:  48 Erro:  1.0\n",
      "Epoca:  49 Erro:  1.0\n"
     ]
    }
   ],
   "source": [
    "init = tf.global_variables_initializer()\n",
    "epocas = 20\n",
    "with tf.Session() as sess:\n",
    "    sess.run(init)\n",
    "\n",
    "    for i in range(epocas):\n",
    "#         erro_total, _= sess.run((erro_calc, treino))\n",
    "        erro_soma = tf.reduce_sum(erro_calc)\n",
    "        print(\"Epoca: \", i, \"Erro: \", sess.run(erro_soma))"
   ]
  }
 ],
 "metadata": {
  "kernelspec": {
   "display_name": "Python 3",
   "language": "python",
   "name": "python3"
  },
  "language_info": {
   "codemirror_mode": {
    "name": "ipython",
    "version": 3
   },
   "file_extension": ".py",
   "mimetype": "text/x-python",
   "name": "python",
   "nbconvert_exporter": "python",
   "pygments_lexer": "ipython3",
   "version": "3.5.3"
  }
 },
 "nbformat": 4,
 "nbformat_minor": 2
}
